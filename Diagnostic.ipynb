{
 "cells": [
  {
   "cell_type": "code",
   "execution_count": 1,
   "metadata": {},
   "outputs": [],
   "source": [
    "import pandas as pd\n",
    "from basilisk import Node, BN\n",
    "\n",
    "%matplotlib inline\n",
    "from IPython.core.interactiveshell import InteractiveShell\n",
    "InteractiveShell.ast_node_interactivity = \"all\""
   ]
  },
  {
   "cell_type": "markdown",
   "metadata": {},
   "source": [
    "## Simple Cases"
   ]
  },
  {
   "cell_type": "markdown",
   "metadata": {},
   "source": [
    "### Define Complete Obvious Model"
   ]
  },
  {
   "cell_type": "code",
   "execution_count": 2,
   "metadata": {},
   "outputs": [
    {
     "data": {
      "image/png": "[encoded data removed]",
      "text/plain": [
       "<Figure size 432x288 with 1 Axes>"
      ]
     },
     "metadata": {
      "needs_background": "light"
     },
     "output_type": "display_data"
    }
   ],
   "source": [
    "C = Node('C')\n",
    "R = Node('R', [C])\n",
    "S = Node('S', [C])\n",
    "W = Node('W', [R, S])\n",
    "\n",
    "nodesall = [C, R, S, W]\n",
    "\n",
    "model = BN(nodesall)\n",
    "model.show(node_size=600, node_color='gray')"
   ]
  },
  {
   "cell_type": "code",
   "execution_count": 3,
   "metadata": {},
   "outputs": [
    {
     "data": {
      "text/plain": [
       "{'C': ['R', 'S'], 'R': ['W'], 'S': ['W'], 'W': []}"
      ]
     },
     "execution_count": 3,
     "metadata": {},
     "output_type": "execute_result"
    }
   ],
   "source": [
    "model.dict_children"
   ]
  },
  {
   "cell_type": "code",
   "execution_count": 3,
   "metadata": {},
   "outputs": [],
   "source": [
    "C.specify_cpt({'True': [0.5]})\n",
    "R.specify_cpt({'C': [True, False],\n",
    "               'True': [0.90, 0.1]})\n",
    "S.specify_cpt({'C': [True, False],\n",
    "               'True': [0.01, 0.99]})\n",
    "W.specify_cpt({'R': [True, True, False, False], \n",
    "               'S': [True, False, True, False],\n",
    "               'True':[1.0, 1.0, 1.0, 0.0]})\n",
    "pass;"
   ]
  },
  {
   "cell_type": "code",
   "execution_count": 4,
   "metadata": {},
   "outputs": [
    {
     "name": "stderr",
     "output_type": "stream",
     "text": [
      "100%|██████████| 1000/1000 [00:09<00:00, 108.23it/s]\n"
     ]
    },
    {
     "data": {
      "text/html": [
       "<div>\n",
       "<style scoped>\n",
       "    .dataframe tbody tr th:only-of-type {\n",
       "        vertical-align: middle;\n",
       "    }\n",
       "\n",
       "    .dataframe tbody tr th {\n",
       "        vertical-align: top;\n",
       "    }\n",
       "\n",
       "    .dataframe thead th {\n",
       "        text-align: right;\n",
       "    }\n",
       "</style>\n",
       "<table border=\"1\" class=\"dataframe\">\n",
       "  <thead>\n",
       "    <tr style=\"text-align: right;\">\n",
       "      <th></th>\n",
       "      <th>C</th>\n",
       "      <th>S</th>\n",
       "      <th>R</th>\n",
       "      <th>W</th>\n",
       "    </tr>\n",
       "  </thead>\n",
       "  <tbody>\n",
       "    <tr>\n",
       "      <th>0</th>\n",
       "      <td>True</td>\n",
       "      <td>False</td>\n",
       "      <td>True</td>\n",
       "      <td>True</td>\n",
       "    </tr>\n",
       "    <tr>\n",
       "      <th>1</th>\n",
       "      <td>True</td>\n",
       "      <td>False</td>\n",
       "      <td>True</td>\n",
       "      <td>True</td>\n",
       "    </tr>\n",
       "    <tr>\n",
       "      <th>2</th>\n",
       "      <td>True</td>\n",
       "      <td>False</td>\n",
       "      <td>False</td>\n",
       "      <td>False</td>\n",
       "    </tr>\n",
       "    <tr>\n",
       "      <th>3</th>\n",
       "      <td>True</td>\n",
       "      <td>False</td>\n",
       "      <td>True</td>\n",
       "      <td>True</td>\n",
       "    </tr>\n",
       "    <tr>\n",
       "      <th>4</th>\n",
       "      <td>True</td>\n",
       "      <td>False</td>\n",
       "      <td>True</td>\n",
       "      <td>True</td>\n",
       "    </tr>\n",
       "  </tbody>\n",
       "</table>\n",
       "</div>"
      ],
      "text/plain": [
       "      C      S      R      W\n",
       "0  True  False   True   True\n",
       "1  True  False   True   True\n",
       "2  True  False  False  False\n",
       "3  True  False   True   True\n",
       "4  True  False   True   True"
      ]
     },
     "execution_count": 4,
     "metadata": {},
     "output_type": "execute_result"
    }
   ],
   "source": [
    "# generate batch samples\n",
    "leaf = W\n",
    "obs = model.generate_samples(leaf, n_samples=1000)\n",
    "obs.head()"
   ]
  },
  {
   "cell_type": "code",
   "execution_count": 16,
   "metadata": {},
   "outputs": [
    {
     "data": {
      "text/plain": [
       "'C'"
      ]
     },
     "execution_count": 16,
     "metadata": {},
     "output_type": "execute_result"
    },
    {
     "data": {
      "text/plain": [
       "'R'"
      ]
     },
     "execution_count": 16,
     "metadata": {},
     "output_type": "execute_result"
    },
    {
     "data": {
      "text/plain": [
       "'S'"
      ]
     },
     "execution_count": 16,
     "metadata": {},
     "output_type": "execute_result"
    },
    {
     "data": {
      "text/plain": [
       "'W'"
      ]
     },
     "execution_count": 16,
     "metadata": {},
     "output_type": "execute_result"
    }
   ],
   "source": [
    "model.ls_nodes[0].name\n",
    "model.ls_nodes[1].name\n",
    "model.ls_nodes[2].name\n",
    "model.ls_nodes[3].name"
   ]
  },
  {
   "cell_type": "code",
   "execution_count": 25,
   "metadata": {},
   "outputs": [
    {
     "data": {
      "text/html": [
       "<div>\n",
       "<style scoped>\n",
       "    .dataframe tbody tr th:only-of-type {\n",
       "        vertical-align: middle;\n",
       "    }\n",
       "\n",
       "    .dataframe tbody tr th {\n",
       "        vertical-align: top;\n",
       "    }\n",
       "\n",
       "    .dataframe thead th {\n",
       "        text-align: right;\n",
       "    }\n",
       "</style>\n",
       "<table border=\"1\" class=\"dataframe\">\n",
       "  <thead>\n",
       "    <tr style=\"text-align: right;\">\n",
       "      <th></th>\n",
       "      <th>True</th>\n",
       "      <th>False</th>\n",
       "    </tr>\n",
       "  </thead>\n",
       "  <tbody>\n",
       "    <tr>\n",
       "      <th>0</th>\n",
       "      <td>0.5</td>\n",
       "      <td>0.5</td>\n",
       "    </tr>\n",
       "  </tbody>\n",
       "</table>\n",
       "</div>"
      ],
      "text/plain": [
       "   True  False\n",
       "0   0.5    0.5"
      ]
     },
     "execution_count": 25,
     "metadata": {},
     "output_type": "execute_result"
    },
    {
     "data": {
      "text/html": [
       "<div>\n",
       "<style scoped>\n",
       "    .dataframe tbody tr th:only-of-type {\n",
       "        vertical-align: middle;\n",
       "    }\n",
       "\n",
       "    .dataframe tbody tr th {\n",
       "        vertical-align: top;\n",
       "    }\n",
       "\n",
       "    .dataframe thead th {\n",
       "        text-align: right;\n",
       "    }\n",
       "</style>\n",
       "<table border=\"1\" class=\"dataframe\">\n",
       "  <thead>\n",
       "    <tr style=\"text-align: right;\">\n",
       "      <th></th>\n",
       "      <th>C</th>\n",
       "      <th>True</th>\n",
       "      <th>False</th>\n",
       "    </tr>\n",
       "  </thead>\n",
       "  <tbody>\n",
       "    <tr>\n",
       "      <th>0</th>\n",
       "      <td>True</td>\n",
       "      <td>0.9</td>\n",
       "      <td>0.1</td>\n",
       "    </tr>\n",
       "    <tr>\n",
       "      <th>1</th>\n",
       "      <td>False</td>\n",
       "      <td>0.1</td>\n",
       "      <td>0.9</td>\n",
       "    </tr>\n",
       "  </tbody>\n",
       "</table>\n",
       "</div>"
      ],
      "text/plain": [
       "       C  True  False\n",
       "0   True   0.9    0.1\n",
       "1  False   0.1    0.9"
      ]
     },
     "execution_count": 25,
     "metadata": {},
     "output_type": "execute_result"
    },
    {
     "data": {
      "text/html": [
       "<div>\n",
       "<style scoped>\n",
       "    .dataframe tbody tr th:only-of-type {\n",
       "        vertical-align: middle;\n",
       "    }\n",
       "\n",
       "    .dataframe tbody tr th {\n",
       "        vertical-align: top;\n",
       "    }\n",
       "\n",
       "    .dataframe thead th {\n",
       "        text-align: right;\n",
       "    }\n",
       "</style>\n",
       "<table border=\"1\" class=\"dataframe\">\n",
       "  <thead>\n",
       "    <tr style=\"text-align: right;\">\n",
       "      <th></th>\n",
       "      <th>C</th>\n",
       "      <th>True</th>\n",
       "      <th>False</th>\n",
       "    </tr>\n",
       "  </thead>\n",
       "  <tbody>\n",
       "    <tr>\n",
       "      <th>0</th>\n",
       "      <td>True</td>\n",
       "      <td>0.01</td>\n",
       "      <td>0.99</td>\n",
       "    </tr>\n",
       "    <tr>\n",
       "      <th>1</th>\n",
       "      <td>False</td>\n",
       "      <td>0.99</td>\n",
       "      <td>0.01</td>\n",
       "    </tr>\n",
       "  </tbody>\n",
       "</table>\n",
       "</div>"
      ],
      "text/plain": [
       "       C  True  False\n",
       "0   True  0.01   0.99\n",
       "1  False  0.99   0.01"
      ]
     },
     "execution_count": 25,
     "metadata": {},
     "output_type": "execute_result"
    },
    {
     "data": {
      "text/html": [
       "<div>\n",
       "<style scoped>\n",
       "    .dataframe tbody tr th:only-of-type {\n",
       "        vertical-align: middle;\n",
       "    }\n",
       "\n",
       "    .dataframe tbody tr th {\n",
       "        vertical-align: top;\n",
       "    }\n",
       "\n",
       "    .dataframe thead th {\n",
       "        text-align: right;\n",
       "    }\n",
       "</style>\n",
       "<table border=\"1\" class=\"dataframe\">\n",
       "  <thead>\n",
       "    <tr style=\"text-align: right;\">\n",
       "      <th></th>\n",
       "      <th>R</th>\n",
       "      <th>S</th>\n",
       "      <th>True</th>\n",
       "      <th>False</th>\n",
       "    </tr>\n",
       "  </thead>\n",
       "  <tbody>\n",
       "    <tr>\n",
       "      <th>0</th>\n",
       "      <td>True</td>\n",
       "      <td>True</td>\n",
       "      <td>1.0</td>\n",
       "      <td>0.0</td>\n",
       "    </tr>\n",
       "    <tr>\n",
       "      <th>1</th>\n",
       "      <td>True</td>\n",
       "      <td>False</td>\n",
       "      <td>1.0</td>\n",
       "      <td>0.0</td>\n",
       "    </tr>\n",
       "    <tr>\n",
       "      <th>2</th>\n",
       "      <td>False</td>\n",
       "      <td>True</td>\n",
       "      <td>1.0</td>\n",
       "      <td>0.0</td>\n",
       "    </tr>\n",
       "    <tr>\n",
       "      <th>3</th>\n",
       "      <td>False</td>\n",
       "      <td>False</td>\n",
       "      <td>0.0</td>\n",
       "      <td>1.0</td>\n",
       "    </tr>\n",
       "  </tbody>\n",
       "</table>\n",
       "</div>"
      ],
      "text/plain": [
       "       R      S  True  False\n",
       "0   True   True   1.0    0.0\n",
       "1   True  False   1.0    0.0\n",
       "2  False   True   1.0    0.0\n",
       "3  False  False   0.0    1.0"
      ]
     },
     "execution_count": 25,
     "metadata": {},
     "output_type": "execute_result"
    }
   ],
   "source": [
    "model.ls_nodes[0].cpt\n",
    "model.ls_nodes[1].cpt\n",
    "model.ls_nodes[2].cpt\n",
    "model.ls_nodes[3].cpt"
   ]
  },
  {
   "cell_type": "code",
   "execution_count": 18,
   "metadata": {},
   "outputs": [],
   "source": [
    "obs.to_csv(\"data/obvyobs1.csv\", index=None)"
   ]
  },
  {
   "cell_type": "code",
   "execution_count": 19,
   "metadata": {},
   "outputs": [
    {
     "data": {
      "text/html": [
       "<div>\n",
       "<style scoped>\n",
       "    .dataframe tbody tr th:only-of-type {\n",
       "        vertical-align: middle;\n",
       "    }\n",
       "\n",
       "    .dataframe tbody tr th {\n",
       "        vertical-align: top;\n",
       "    }\n",
       "\n",
       "    .dataframe thead th {\n",
       "        text-align: right;\n",
       "    }\n",
       "</style>\n",
       "<table border=\"1\" class=\"dataframe\">\n",
       "  <thead>\n",
       "    <tr style=\"text-align: right;\">\n",
       "      <th></th>\n",
       "      <th>C</th>\n",
       "      <th>S</th>\n",
       "      <th>R</th>\n",
       "      <th>W</th>\n",
       "    </tr>\n",
       "  </thead>\n",
       "  <tbody>\n",
       "    <tr>\n",
       "      <th>0</th>\n",
       "      <td>True</td>\n",
       "      <td>False</td>\n",
       "      <td>True</td>\n",
       "      <td>True</td>\n",
       "    </tr>\n",
       "    <tr>\n",
       "      <th>1</th>\n",
       "      <td>True</td>\n",
       "      <td>False</td>\n",
       "      <td>True</td>\n",
       "      <td>True</td>\n",
       "    </tr>\n",
       "    <tr>\n",
       "      <th>2</th>\n",
       "      <td>True</td>\n",
       "      <td>False</td>\n",
       "      <td>False</td>\n",
       "      <td>False</td>\n",
       "    </tr>\n",
       "    <tr>\n",
       "      <th>3</th>\n",
       "      <td>True</td>\n",
       "      <td>False</td>\n",
       "      <td>True</td>\n",
       "      <td>True</td>\n",
       "    </tr>\n",
       "    <tr>\n",
       "      <th>4</th>\n",
       "      <td>True</td>\n",
       "      <td>False</td>\n",
       "      <td>True</td>\n",
       "      <td>True</td>\n",
       "    </tr>\n",
       "  </tbody>\n",
       "</table>\n",
       "</div>"
      ],
      "text/plain": [
       "      C      S      R      W\n",
       "0  True  False   True   True\n",
       "1  True  False   True   True\n",
       "2  True  False  False  False\n",
       "3  True  False   True   True\n",
       "4  True  False   True   True"
      ]
     },
     "execution_count": 19,
     "metadata": {},
     "output_type": "execute_result"
    }
   ],
   "source": [
    "data = pd.read_csv(\"data/obvyobs1.csv\")\n",
    "data.head()"
   ]
  },
  {
   "cell_type": "code",
   "execution_count": 75,
   "metadata": {},
   "outputs": [
    {
     "data": {
      "text/html": [
       "<div>\n",
       "<style scoped>\n",
       "    .dataframe tbody tr th:only-of-type {\n",
       "        vertical-align: middle;\n",
       "    }\n",
       "\n",
       "    .dataframe tbody tr th {\n",
       "        vertical-align: top;\n",
       "    }\n",
       "\n",
       "    .dataframe thead tr th {\n",
       "        text-align: left;\n",
       "    }\n",
       "</style>\n",
       "<table border=\"1\" class=\"dataframe\">\n",
       "  <thead>\n",
       "    <tr>\n",
       "      <th></th>\n",
       "      <th>ivar1</th>\n",
       "      <th colspan=\"4\" halign=\"left\">True</th>\n",
       "      <th colspan=\"4\" halign=\"left\">False</th>\n",
       "    </tr>\n",
       "    <tr>\n",
       "      <th></th>\n",
       "      <th>ivar2</th>\n",
       "      <th colspan=\"2\" halign=\"left\">True</th>\n",
       "      <th colspan=\"2\" halign=\"left\">False</th>\n",
       "      <th colspan=\"2\" halign=\"left\">True</th>\n",
       "      <th colspan=\"2\" halign=\"left\">False</th>\n",
       "    </tr>\n",
       "    <tr>\n",
       "      <th></th>\n",
       "      <th>ivar3</th>\n",
       "      <th>True</th>\n",
       "      <th>False</th>\n",
       "      <th>True</th>\n",
       "      <th>False</th>\n",
       "      <th>True</th>\n",
       "      <th>False</th>\n",
       "      <th>True</th>\n",
       "      <th>False</th>\n",
       "    </tr>\n",
       "  </thead>\n",
       "  <tbody>\n",
       "    <tr>\n",
       "      <th rowspan=\"2\" valign=\"top\">dvar</th>\n",
       "      <th>True</th>\n",
       "      <td>NaN</td>\n",
       "      <td>NaN</td>\n",
       "      <td>NaN</td>\n",
       "      <td>NaN</td>\n",
       "      <td>NaN</td>\n",
       "      <td>NaN</td>\n",
       "      <td>NaN</td>\n",
       "      <td>NaN</td>\n",
       "    </tr>\n",
       "    <tr>\n",
       "      <th>False</th>\n",
       "      <td>NaN</td>\n",
       "      <td>NaN</td>\n",
       "      <td>NaN</td>\n",
       "      <td>NaN</td>\n",
       "      <td>NaN</td>\n",
       "      <td>NaN</td>\n",
       "      <td>NaN</td>\n",
       "      <td>NaN</td>\n",
       "    </tr>\n",
       "  </tbody>\n",
       "</table>\n",
       "</div>"
      ],
      "text/plain": [
       "ivar1      True                    False                  \n",
       "ivar2      True        False       True        False      \n",
       "ivar3      True  False True  False True  False True  False\n",
       "dvar True    NaN   NaN   NaN   NaN   NaN   NaN   NaN   NaN\n",
       "     False   NaN   NaN   NaN   NaN   NaN   NaN   NaN   NaN"
      ]
     },
     "execution_count": 75,
     "metadata": {},
     "output_type": "execute_result"
    }
   ],
   "source": [
    "testinds = pd.MultiIndex.from_product([['dvar'], ['True','False']])\n",
    "testcols = pd.MultiIndex.from_product([[True,False], [True,False], [True,False]], \n",
    "                                      names = ['ivar1', 'ivar2', 'ivar3'])\n",
    "pd.DataFrame(index=testinds, columns=testcols)"
   ]
  },
  {
   "cell_type": "markdown",
   "metadata": {},
   "source": [
    "### Define Partial Model 1"
   ]
  },
  {
   "cell_type": "code",
   "execution_count": 20,
   "metadata": {},
   "outputs": [
    {
     "data": {
      "image/png": "[encoded data removed]",
      "text/plain": [
       "<Figure size 432x288 with 1 Axes>"
      ]
     },
     "metadata": {
      "needs_background": "light"
     },
     "output_type": "display_data"
    }
   ],
   "source": [
    "R1 = Node('R')\n",
    "S1 = Node('S')\n",
    "W1 = Node('W', [R1, S1])\n",
    "\n",
    "nodes1 = [R1, S1, W1]\n",
    "model1 = BN(nodes1)\n",
    "data1 = data.drop(['C'], axis=1)\n",
    "\n",
    "model1.show(node_size=600, node_color='gray')"
   ]
  },
  {
   "cell_type": "code",
   "execution_count": 40,
   "metadata": {},
   "outputs": [
    {
     "data": {
      "text/html": [
       "<div>\n",
       "<style scoped>\n",
       "    .dataframe tbody tr th:only-of-type {\n",
       "        vertical-align: middle;\n",
       "    }\n",
       "\n",
       "    .dataframe tbody tr th {\n",
       "        vertical-align: top;\n",
       "    }\n",
       "\n",
       "    .dataframe thead th {\n",
       "        text-align: right;\n",
       "    }\n",
       "</style>\n",
       "<table border=\"1\" class=\"dataframe\">\n",
       "  <thead>\n",
       "    <tr style=\"text-align: right;\">\n",
       "      <th></th>\n",
       "      <th>S</th>\n",
       "      <th>R</th>\n",
       "      <th>W</th>\n",
       "    </tr>\n",
       "  </thead>\n",
       "  <tbody>\n",
       "    <tr>\n",
       "      <th>0</th>\n",
       "      <td>False</td>\n",
       "      <td>True</td>\n",
       "      <td>True</td>\n",
       "    </tr>\n",
       "    <tr>\n",
       "      <th>1</th>\n",
       "      <td>False</td>\n",
       "      <td>True</td>\n",
       "      <td>True</td>\n",
       "    </tr>\n",
       "    <tr>\n",
       "      <th>2</th>\n",
       "      <td>False</td>\n",
       "      <td>False</td>\n",
       "      <td>False</td>\n",
       "    </tr>\n",
       "    <tr>\n",
       "      <th>3</th>\n",
       "      <td>False</td>\n",
       "      <td>True</td>\n",
       "      <td>True</td>\n",
       "    </tr>\n",
       "    <tr>\n",
       "      <th>4</th>\n",
       "      <td>False</td>\n",
       "      <td>True</td>\n",
       "      <td>True</td>\n",
       "    </tr>\n",
       "  </tbody>\n",
       "</table>\n",
       "</div>"
      ],
      "text/plain": [
       "       S      R      W\n",
       "0  False   True   True\n",
       "1  False   True   True\n",
       "2  False  False  False\n",
       "3  False   True   True\n",
       "4  False   True   True"
      ]
     },
     "execution_count": 40,
     "metadata": {},
     "output_type": "execute_result"
    }
   ],
   "source": [
    "data1.head()"
   ]
  },
  {
   "cell_type": "code",
   "execution_count": 21,
   "metadata": {},
   "outputs": [
    {
     "data": {
      "text/html": [
       "<div>\n",
       "<style scoped>\n",
       "    .dataframe tbody tr th:only-of-type {\n",
       "        vertical-align: middle;\n",
       "    }\n",
       "\n",
       "    .dataframe tbody tr th {\n",
       "        vertical-align: top;\n",
       "    }\n",
       "\n",
       "    .dataframe thead th {\n",
       "        text-align: right;\n",
       "    }\n",
       "</style>\n",
       "<table border=\"1\" class=\"dataframe\">\n",
       "  <thead>\n",
       "    <tr style=\"text-align: right;\">\n",
       "      <th>R</th>\n",
       "      <th>False</th>\n",
       "      <th>True</th>\n",
       "    </tr>\n",
       "  </thead>\n",
       "  <tbody>\n",
       "    <tr>\n",
       "      <th>0</th>\n",
       "      <td>0.506</td>\n",
       "      <td>0.494</td>\n",
       "    </tr>\n",
       "  </tbody>\n",
       "</table>\n",
       "</div>"
      ],
      "text/plain": [
       "R  False  True \n",
       "0  0.506  0.494"
      ]
     },
     "execution_count": 21,
     "metadata": {},
     "output_type": "execute_result"
    },
    {
     "data": {
      "text/html": [
       "<div>\n",
       "<style scoped>\n",
       "    .dataframe tbody tr th:only-of-type {\n",
       "        vertical-align: middle;\n",
       "    }\n",
       "\n",
       "    .dataframe tbody tr th {\n",
       "        vertical-align: top;\n",
       "    }\n",
       "\n",
       "    .dataframe thead th {\n",
       "        text-align: right;\n",
       "    }\n",
       "</style>\n",
       "<table border=\"1\" class=\"dataframe\">\n",
       "  <thead>\n",
       "    <tr style=\"text-align: right;\">\n",
       "      <th>S</th>\n",
       "      <th>False</th>\n",
       "      <th>True</th>\n",
       "    </tr>\n",
       "  </thead>\n",
       "  <tbody>\n",
       "    <tr>\n",
       "      <th>0</th>\n",
       "      <td>0.467</td>\n",
       "      <td>0.533</td>\n",
       "    </tr>\n",
       "  </tbody>\n",
       "</table>\n",
       "</div>"
      ],
      "text/plain": [
       "S  False  True \n",
       "0  0.467  0.533"
      ]
     },
     "execution_count": 21,
     "metadata": {},
     "output_type": "execute_result"
    },
    {
     "data": {
      "text/html": [
       "<div>\n",
       "<style scoped>\n",
       "    .dataframe tbody tr th:only-of-type {\n",
       "        vertical-align: middle;\n",
       "    }\n",
       "\n",
       "    .dataframe tbody tr th {\n",
       "        vertical-align: top;\n",
       "    }\n",
       "\n",
       "    .dataframe thead th {\n",
       "        text-align: right;\n",
       "    }\n",
       "</style>\n",
       "<table border=\"1\" class=\"dataframe\">\n",
       "  <thead>\n",
       "    <tr style=\"text-align: right;\">\n",
       "      <th>W</th>\n",
       "      <th>R</th>\n",
       "      <th>S</th>\n",
       "      <th>False</th>\n",
       "      <th>True</th>\n",
       "    </tr>\n",
       "  </thead>\n",
       "  <tbody>\n",
       "    <tr>\n",
       "      <th>0</th>\n",
       "      <td>False</td>\n",
       "      <td>False</td>\n",
       "      <td>1.0</td>\n",
       "      <td>0.0</td>\n",
       "    </tr>\n",
       "    <tr>\n",
       "      <th>1</th>\n",
       "      <td>False</td>\n",
       "      <td>True</td>\n",
       "      <td>0.0</td>\n",
       "      <td>1.0</td>\n",
       "    </tr>\n",
       "    <tr>\n",
       "      <th>2</th>\n",
       "      <td>True</td>\n",
       "      <td>False</td>\n",
       "      <td>0.0</td>\n",
       "      <td>1.0</td>\n",
       "    </tr>\n",
       "    <tr>\n",
       "      <th>3</th>\n",
       "      <td>True</td>\n",
       "      <td>True</td>\n",
       "      <td>0.0</td>\n",
       "      <td>1.0</td>\n",
       "    </tr>\n",
       "  </tbody>\n",
       "</table>\n",
       "</div>"
      ],
      "text/plain": [
       "W      R      S  False  True\n",
       "0  False  False    1.0   0.0\n",
       "1  False   True    0.0   1.0\n",
       "2   True  False    0.0   1.0\n",
       "3   True   True    0.0   1.0"
      ]
     },
     "execution_count": 21,
     "metadata": {},
     "output_type": "execute_result"
    }
   ],
   "source": [
    "model1.fit(data1)\n",
    "model1.ls_nodes[0].cpt\n",
    "model1.ls_nodes[1].cpt\n",
    "model1.ls_nodes[2].cpt"
   ]
  },
  {
   "cell_type": "code",
   "execution_count": 42,
   "metadata": {},
   "outputs": [
    {
     "data": {
      "text/html": [
       "<div>\n",
       "<style scoped>\n",
       "    .dataframe tbody tr th:only-of-type {\n",
       "        vertical-align: middle;\n",
       "    }\n",
       "\n",
       "    .dataframe tbody tr th {\n",
       "        vertical-align: top;\n",
       "    }\n",
       "\n",
       "    .dataframe thead th {\n",
       "        text-align: right;\n",
       "    }\n",
       "</style>\n",
       "<table border=\"1\" class=\"dataframe\">\n",
       "  <thead>\n",
       "    <tr style=\"text-align: right;\">\n",
       "      <th>W</th>\n",
       "      <th>R</th>\n",
       "      <th>S</th>\n",
       "      <th>False</th>\n",
       "      <th>True</th>\n",
       "    </tr>\n",
       "  </thead>\n",
       "  <tbody>\n",
       "    <tr>\n",
       "      <th>0</th>\n",
       "      <td>False</td>\n",
       "      <td>False</td>\n",
       "      <td>1.0</td>\n",
       "      <td>0.0</td>\n",
       "    </tr>\n",
       "    <tr>\n",
       "      <th>1</th>\n",
       "      <td>False</td>\n",
       "      <td>True</td>\n",
       "      <td>0.0</td>\n",
       "      <td>1.0</td>\n",
       "    </tr>\n",
       "    <tr>\n",
       "      <th>2</th>\n",
       "      <td>True</td>\n",
       "      <td>False</td>\n",
       "      <td>0.0</td>\n",
       "      <td>1.0</td>\n",
       "    </tr>\n",
       "    <tr>\n",
       "      <th>3</th>\n",
       "      <td>True</td>\n",
       "      <td>True</td>\n",
       "      <td>0.0</td>\n",
       "      <td>1.0</td>\n",
       "    </tr>\n",
       "  </tbody>\n",
       "</table>\n",
       "</div>"
      ],
      "text/plain": [
       "W      R      S  False  True\n",
       "0  False  False    1.0   0.0\n",
       "1  False   True    0.0   1.0\n",
       "2   True  False    0.0   1.0\n",
       "3   True   True    0.0   1.0"
      ]
     },
     "execution_count": 42,
     "metadata": {},
     "output_type": "execute_result"
    }
   ],
   "source": [
    "model1._calculate_cpt(W)"
   ]
  },
  {
   "cell_type": "code",
   "execution_count": 63,
   "metadata": {},
   "outputs": [
    {
     "data": {
      "text/plain": [
       "<basilisk.Node.Node at 0x7f76d2d6bc88>"
      ]
     },
     "execution_count": 63,
     "metadata": {},
     "output_type": "execute_result"
    },
    {
     "data": {
      "text/plain": [
       "<function dict.values>"
      ]
     },
     "execution_count": 63,
     "metadata": {},
     "output_type": "execute_result"
    }
   ],
   "source": [
    "R1\n",
    "model1.dict_nodes.values"
   ]
  },
  {
   "cell_type": "code",
   "execution_count": 60,
   "metadata": {},
   "outputs": [
    {
     "ename": "TypeError",
     "evalue": "argument of type 'builtin_function_or_method' is not iterable",
     "output_type": "error",
     "traceback": [
      "\u001b[0;31m---------------------------------------------------------------------------\u001b[0m",
      "\u001b[0;31mTypeError\u001b[0m                                 Traceback (most recent call last)",
      "\u001b[0;32m<ipython-input-60-c21d306df697>\u001b[0m in \u001b[0;36m<module>\u001b[0;34m\u001b[0m\n\u001b[0;32m----> 1\u001b[0;31m \u001b[0mR1\u001b[0m \u001b[0;32min\u001b[0m \u001b[0mmodel1\u001b[0m\u001b[0;34m.\u001b[0m\u001b[0mdict_nodes\u001b[0m\u001b[0;34m.\u001b[0m\u001b[0mvalues\u001b[0m\u001b[0;34m\u001b[0m\u001b[0;34m\u001b[0m\u001b[0m\n\u001b[0m",
      "\u001b[0;31mTypeError\u001b[0m: argument of type 'builtin_function_or_method' is not iterable"
     ]
    }
   ],
   "source": [
    "R1 in model1.dict_nodes.values"
   ]
  },
  {
   "cell_type": "code",
   "execution_count": 53,
   "metadata": {},
   "outputs": [
    {
     "data": {
      "text/html": [
       "<div>\n",
       "<style scoped>\n",
       "    .dataframe tbody tr th:only-of-type {\n",
       "        vertical-align: middle;\n",
       "    }\n",
       "\n",
       "    .dataframe tbody tr th {\n",
       "        vertical-align: top;\n",
       "    }\n",
       "\n",
       "    .dataframe thead th {\n",
       "        text-align: right;\n",
       "    }\n",
       "</style>\n",
       "<table border=\"1\" class=\"dataframe\">\n",
       "  <thead>\n",
       "    <tr style=\"text-align: right;\">\n",
       "      <th></th>\n",
       "      <th>S</th>\n",
       "      <th>R</th>\n",
       "      <th>W</th>\n",
       "    </tr>\n",
       "  </thead>\n",
       "  <tbody>\n",
       "    <tr>\n",
       "      <th>0</th>\n",
       "      <td>False</td>\n",
       "      <td>True</td>\n",
       "      <td>True</td>\n",
       "    </tr>\n",
       "    <tr>\n",
       "      <th>1</th>\n",
       "      <td>False</td>\n",
       "      <td>True</td>\n",
       "      <td>True</td>\n",
       "    </tr>\n",
       "    <tr>\n",
       "      <th>2</th>\n",
       "      <td>False</td>\n",
       "      <td>False</td>\n",
       "      <td>False</td>\n",
       "    </tr>\n",
       "    <tr>\n",
       "      <th>3</th>\n",
       "      <td>False</td>\n",
       "      <td>True</td>\n",
       "      <td>True</td>\n",
       "    </tr>\n",
       "    <tr>\n",
       "      <th>4</th>\n",
       "      <td>False</td>\n",
       "      <td>True</td>\n",
       "      <td>True</td>\n",
       "    </tr>\n",
       "    <tr>\n",
       "      <th>5</th>\n",
       "      <td>True</td>\n",
       "      <td>False</td>\n",
       "      <td>True</td>\n",
       "    </tr>\n",
       "    <tr>\n",
       "      <th>6</th>\n",
       "      <td>True</td>\n",
       "      <td>False</td>\n",
       "      <td>True</td>\n",
       "    </tr>\n",
       "    <tr>\n",
       "      <th>7</th>\n",
       "      <td>True</td>\n",
       "      <td>True</td>\n",
       "      <td>True</td>\n",
       "    </tr>\n",
       "    <tr>\n",
       "      <th>8</th>\n",
       "      <td>False</td>\n",
       "      <td>True</td>\n",
       "      <td>True</td>\n",
       "    </tr>\n",
       "    <tr>\n",
       "      <th>9</th>\n",
       "      <td>True</td>\n",
       "      <td>False</td>\n",
       "      <td>True</td>\n",
       "    </tr>\n",
       "    <tr>\n",
       "      <th>10</th>\n",
       "      <td>False</td>\n",
       "      <td>True</td>\n",
       "      <td>True</td>\n",
       "    </tr>\n",
       "    <tr>\n",
       "      <th>11</th>\n",
       "      <td>True</td>\n",
       "      <td>False</td>\n",
       "      <td>True</td>\n",
       "    </tr>\n",
       "    <tr>\n",
       "      <th>12</th>\n",
       "      <td>True</td>\n",
       "      <td>False</td>\n",
       "      <td>True</td>\n",
       "    </tr>\n",
       "    <tr>\n",
       "      <th>13</th>\n",
       "      <td>False</td>\n",
       "      <td>True</td>\n",
       "      <td>True</td>\n",
       "    </tr>\n",
       "    <tr>\n",
       "      <th>14</th>\n",
       "      <td>False</td>\n",
       "      <td>True</td>\n",
       "      <td>True</td>\n",
       "    </tr>\n",
       "    <tr>\n",
       "      <th>15</th>\n",
       "      <td>True</td>\n",
       "      <td>False</td>\n",
       "      <td>True</td>\n",
       "    </tr>\n",
       "    <tr>\n",
       "      <th>16</th>\n",
       "      <td>True</td>\n",
       "      <td>True</td>\n",
       "      <td>True</td>\n",
       "    </tr>\n",
       "    <tr>\n",
       "      <th>17</th>\n",
       "      <td>True</td>\n",
       "      <td>False</td>\n",
       "      <td>True</td>\n",
       "    </tr>\n",
       "    <tr>\n",
       "      <th>18</th>\n",
       "      <td>True</td>\n",
       "      <td>False</td>\n",
       "      <td>True</td>\n",
       "    </tr>\n",
       "    <tr>\n",
       "      <th>19</th>\n",
       "      <td>True</td>\n",
       "      <td>False</td>\n",
       "      <td>True</td>\n",
       "    </tr>\n",
       "    <tr>\n",
       "      <th>20</th>\n",
       "      <td>True</td>\n",
       "      <td>False</td>\n",
       "      <td>True</td>\n",
       "    </tr>\n",
       "    <tr>\n",
       "      <th>21</th>\n",
       "      <td>False</td>\n",
       "      <td>True</td>\n",
       "      <td>True</td>\n",
       "    </tr>\n",
       "    <tr>\n",
       "      <th>22</th>\n",
       "      <td>True</td>\n",
       "      <td>False</td>\n",
       "      <td>True</td>\n",
       "    </tr>\n",
       "    <tr>\n",
       "      <th>23</th>\n",
       "      <td>True</td>\n",
       "      <td>False</td>\n",
       "      <td>True</td>\n",
       "    </tr>\n",
       "    <tr>\n",
       "      <th>24</th>\n",
       "      <td>False</td>\n",
       "      <td>True</td>\n",
       "      <td>True</td>\n",
       "    </tr>\n",
       "    <tr>\n",
       "      <th>25</th>\n",
       "      <td>False</td>\n",
       "      <td>True</td>\n",
       "      <td>True</td>\n",
       "    </tr>\n",
       "    <tr>\n",
       "      <th>26</th>\n",
       "      <td>False</td>\n",
       "      <td>False</td>\n",
       "      <td>False</td>\n",
       "    </tr>\n",
       "    <tr>\n",
       "      <th>27</th>\n",
       "      <td>True</td>\n",
       "      <td>False</td>\n",
       "      <td>True</td>\n",
       "    </tr>\n",
       "    <tr>\n",
       "      <th>28</th>\n",
       "      <td>True</td>\n",
       "      <td>False</td>\n",
       "      <td>True</td>\n",
       "    </tr>\n",
       "    <tr>\n",
       "      <th>29</th>\n",
       "      <td>False</td>\n",
       "      <td>True</td>\n",
       "      <td>True</td>\n",
       "    </tr>\n",
       "    <tr>\n",
       "      <th>...</th>\n",
       "      <td>...</td>\n",
       "      <td>...</td>\n",
       "      <td>...</td>\n",
       "    </tr>\n",
       "    <tr>\n",
       "      <th>970</th>\n",
       "      <td>True</td>\n",
       "      <td>False</td>\n",
       "      <td>True</td>\n",
       "    </tr>\n",
       "    <tr>\n",
       "      <th>971</th>\n",
       "      <td>False</td>\n",
       "      <td>True</td>\n",
       "      <td>True</td>\n",
       "    </tr>\n",
       "    <tr>\n",
       "      <th>972</th>\n",
       "      <td>True</td>\n",
       "      <td>True</td>\n",
       "      <td>True</td>\n",
       "    </tr>\n",
       "    <tr>\n",
       "      <th>973</th>\n",
       "      <td>False</td>\n",
       "      <td>True</td>\n",
       "      <td>True</td>\n",
       "    </tr>\n",
       "    <tr>\n",
       "      <th>974</th>\n",
       "      <td>True</td>\n",
       "      <td>False</td>\n",
       "      <td>True</td>\n",
       "    </tr>\n",
       "    <tr>\n",
       "      <th>975</th>\n",
       "      <td>False</td>\n",
       "      <td>True</td>\n",
       "      <td>True</td>\n",
       "    </tr>\n",
       "    <tr>\n",
       "      <th>976</th>\n",
       "      <td>True</td>\n",
       "      <td>False</td>\n",
       "      <td>True</td>\n",
       "    </tr>\n",
       "    <tr>\n",
       "      <th>977</th>\n",
       "      <td>True</td>\n",
       "      <td>False</td>\n",
       "      <td>True</td>\n",
       "    </tr>\n",
       "    <tr>\n",
       "      <th>978</th>\n",
       "      <td>False</td>\n",
       "      <td>True</td>\n",
       "      <td>True</td>\n",
       "    </tr>\n",
       "    <tr>\n",
       "      <th>979</th>\n",
       "      <td>True</td>\n",
       "      <td>False</td>\n",
       "      <td>True</td>\n",
       "    </tr>\n",
       "    <tr>\n",
       "      <th>980</th>\n",
       "      <td>False</td>\n",
       "      <td>True</td>\n",
       "      <td>True</td>\n",
       "    </tr>\n",
       "    <tr>\n",
       "      <th>981</th>\n",
       "      <td>True</td>\n",
       "      <td>True</td>\n",
       "      <td>True</td>\n",
       "    </tr>\n",
       "    <tr>\n",
       "      <th>982</th>\n",
       "      <td>False</td>\n",
       "      <td>True</td>\n",
       "      <td>True</td>\n",
       "    </tr>\n",
       "    <tr>\n",
       "      <th>983</th>\n",
       "      <td>False</td>\n",
       "      <td>False</td>\n",
       "      <td>False</td>\n",
       "    </tr>\n",
       "    <tr>\n",
       "      <th>984</th>\n",
       "      <td>False</td>\n",
       "      <td>False</td>\n",
       "      <td>False</td>\n",
       "    </tr>\n",
       "    <tr>\n",
       "      <th>985</th>\n",
       "      <td>False</td>\n",
       "      <td>True</td>\n",
       "      <td>True</td>\n",
       "    </tr>\n",
       "    <tr>\n",
       "      <th>986</th>\n",
       "      <td>False</td>\n",
       "      <td>True</td>\n",
       "      <td>True</td>\n",
       "    </tr>\n",
       "    <tr>\n",
       "      <th>987</th>\n",
       "      <td>False</td>\n",
       "      <td>True</td>\n",
       "      <td>True</td>\n",
       "    </tr>\n",
       "    <tr>\n",
       "      <th>988</th>\n",
       "      <td>False</td>\n",
       "      <td>True</td>\n",
       "      <td>True</td>\n",
       "    </tr>\n",
       "    <tr>\n",
       "      <th>989</th>\n",
       "      <td>True</td>\n",
       "      <td>False</td>\n",
       "      <td>True</td>\n",
       "    </tr>\n",
       "    <tr>\n",
       "      <th>990</th>\n",
       "      <td>True</td>\n",
       "      <td>False</td>\n",
       "      <td>True</td>\n",
       "    </tr>\n",
       "    <tr>\n",
       "      <th>991</th>\n",
       "      <td>True</td>\n",
       "      <td>False</td>\n",
       "      <td>True</td>\n",
       "    </tr>\n",
       "    <tr>\n",
       "      <th>992</th>\n",
       "      <td>False</td>\n",
       "      <td>True</td>\n",
       "      <td>True</td>\n",
       "    </tr>\n",
       "    <tr>\n",
       "      <th>993</th>\n",
       "      <td>True</td>\n",
       "      <td>False</td>\n",
       "      <td>True</td>\n",
       "    </tr>\n",
       "    <tr>\n",
       "      <th>994</th>\n",
       "      <td>False</td>\n",
       "      <td>True</td>\n",
       "      <td>True</td>\n",
       "    </tr>\n",
       "    <tr>\n",
       "      <th>995</th>\n",
       "      <td>False</td>\n",
       "      <td>True</td>\n",
       "      <td>True</td>\n",
       "    </tr>\n",
       "    <tr>\n",
       "      <th>996</th>\n",
       "      <td>True</td>\n",
       "      <td>False</td>\n",
       "      <td>True</td>\n",
       "    </tr>\n",
       "    <tr>\n",
       "      <th>997</th>\n",
       "      <td>True</td>\n",
       "      <td>False</td>\n",
       "      <td>True</td>\n",
       "    </tr>\n",
       "    <tr>\n",
       "      <th>998</th>\n",
       "      <td>False</td>\n",
       "      <td>True</td>\n",
       "      <td>True</td>\n",
       "    </tr>\n",
       "    <tr>\n",
       "      <th>999</th>\n",
       "      <td>True</td>\n",
       "      <td>False</td>\n",
       "      <td>True</td>\n",
       "    </tr>\n",
       "  </tbody>\n",
       "</table>\n",
       "<p>1000 rows × 3 columns</p>\n",
       "</div>"
      ],
      "text/plain": [
       "         S      R      W\n",
       "0    False   True   True\n",
       "1    False   True   True\n",
       "2    False  False  False\n",
       "3    False   True   True\n",
       "4    False   True   True\n",
       "5     True  False   True\n",
       "6     True  False   True\n",
       "7     True   True   True\n",
       "8    False   True   True\n",
       "9     True  False   True\n",
       "10   False   True   True\n",
       "11    True  False   True\n",
       "12    True  False   True\n",
       "13   False   True   True\n",
       "14   False   True   True\n",
       "15    True  False   True\n",
       "16    True   True   True\n",
       "17    True  False   True\n",
       "18    True  False   True\n",
       "19    True  False   True\n",
       "20    True  False   True\n",
       "21   False   True   True\n",
       "22    True  False   True\n",
       "23    True  False   True\n",
       "24   False   True   True\n",
       "25   False   True   True\n",
       "26   False  False  False\n",
       "27    True  False   True\n",
       "28    True  False   True\n",
       "29   False   True   True\n",
       "..     ...    ...    ...\n",
       "970   True  False   True\n",
       "971  False   True   True\n",
       "972   True   True   True\n",
       "973  False   True   True\n",
       "974   True  False   True\n",
       "975  False   True   True\n",
       "976   True  False   True\n",
       "977   True  False   True\n",
       "978  False   True   True\n",
       "979   True  False   True\n",
       "980  False   True   True\n",
       "981   True   True   True\n",
       "982  False   True   True\n",
       "983  False  False  False\n",
       "984  False  False  False\n",
       "985  False   True   True\n",
       "986  False   True   True\n",
       "987  False   True   True\n",
       "988  False   True   True\n",
       "989   True  False   True\n",
       "990   True  False   True\n",
       "991   True  False   True\n",
       "992  False   True   True\n",
       "993   True  False   True\n",
       "994  False   True   True\n",
       "995  False   True   True\n",
       "996   True  False   True\n",
       "997   True  False   True\n",
       "998  False   True   True\n",
       "999   True  False   True\n",
       "\n",
       "[1000 rows x 3 columns]"
      ]
     },
     "execution_count": 53,
     "metadata": {},
     "output_type": "execute_result"
    }
   ],
   "source": [
    "[model1.observations[x.name] for x in ]"
   ]
  },
  {
   "cell_type": "code",
   "execution_count": 65,
   "metadata": {},
   "outputs": [
    {
     "data": {
      "text/plain": [
       "[<basilisk.Node.Node at 0x7f76d2d6bc88>,\n",
       " <basilisk.Node.Node at 0x7f76d2d6b630>]"
      ]
     },
     "execution_count": 65,
     "metadata": {},
     "output_type": "execute_result"
    }
   ],
   "source": []
  },
  {
   "cell_type": "code",
   "execution_count": 80,
   "metadata": {},
   "outputs": [
    {
     "data": {
      "text/html": [
       "<div>\n",
       "<style scoped>\n",
       "    .dataframe tbody tr th:only-of-type {\n",
       "        vertical-align: middle;\n",
       "    }\n",
       "\n",
       "    .dataframe tbody tr th {\n",
       "        vertical-align: top;\n",
       "    }\n",
       "\n",
       "    .dataframe thead th {\n",
       "        text-align: right;\n",
       "    }\n",
       "</style>\n",
       "<table border=\"1\" class=\"dataframe\">\n",
       "  <thead>\n",
       "    <tr style=\"text-align: right;\">\n",
       "      <th>W</th>\n",
       "      <th>R</th>\n",
       "      <th>S</th>\n",
       "      <th>False</th>\n",
       "      <th>True</th>\n",
       "    </tr>\n",
       "  </thead>\n",
       "  <tbody>\n",
       "    <tr>\n",
       "      <th>0</th>\n",
       "      <td>False</td>\n",
       "      <td>False</td>\n",
       "      <td>1.0</td>\n",
       "      <td>0.0</td>\n",
       "    </tr>\n",
       "    <tr>\n",
       "      <th>1</th>\n",
       "      <td>False</td>\n",
       "      <td>True</td>\n",
       "      <td>0.0</td>\n",
       "      <td>1.0</td>\n",
       "    </tr>\n",
       "    <tr>\n",
       "      <th>2</th>\n",
       "      <td>True</td>\n",
       "      <td>False</td>\n",
       "      <td>0.0</td>\n",
       "      <td>1.0</td>\n",
       "    </tr>\n",
       "    <tr>\n",
       "      <th>3</th>\n",
       "      <td>True</td>\n",
       "      <td>True</td>\n",
       "      <td>0.0</td>\n",
       "      <td>1.0</td>\n",
       "    </tr>\n",
       "  </tbody>\n",
       "</table>\n",
       "</div>"
      ],
      "text/plain": [
       "W      R      S  False  True\n",
       "0  False  False    1.0   0.0\n",
       "1  False   True    0.0   1.0\n",
       "2   True  False    0.0   1.0\n",
       "3   True   True    0.0   1.0"
      ]
     },
     "execution_count": 80,
     "metadata": {},
     "output_type": "execute_result"
    },
    {
     "data": {
      "text/html": [
       "<div>\n",
       "<style scoped>\n",
       "    .dataframe tbody tr th:only-of-type {\n",
       "        vertical-align: middle;\n",
       "    }\n",
       "\n",
       "    .dataframe tbody tr th {\n",
       "        vertical-align: top;\n",
       "    }\n",
       "\n",
       "    .dataframe thead th {\n",
       "        text-align: right;\n",
       "    }\n",
       "</style>\n",
       "<table border=\"1\" class=\"dataframe\">\n",
       "  <thead>\n",
       "    <tr style=\"text-align: right;\">\n",
       "      <th></th>\n",
       "      <th>W</th>\n",
       "      <th>False</th>\n",
       "      <th>True</th>\n",
       "    </tr>\n",
       "    <tr>\n",
       "      <th>R</th>\n",
       "      <th>S</th>\n",
       "      <th></th>\n",
       "      <th></th>\n",
       "    </tr>\n",
       "  </thead>\n",
       "  <tbody>\n",
       "    <tr>\n",
       "      <th rowspan=\"2\" valign=\"top\">False</th>\n",
       "      <th>False</th>\n",
       "      <td>1.0</td>\n",
       "      <td>0.0</td>\n",
       "    </tr>\n",
       "    <tr>\n",
       "      <th>True</th>\n",
       "      <td>0.0</td>\n",
       "      <td>1.0</td>\n",
       "    </tr>\n",
       "    <tr>\n",
       "      <th rowspan=\"2\" valign=\"top\">True</th>\n",
       "      <th>False</th>\n",
       "      <td>0.0</td>\n",
       "      <td>1.0</td>\n",
       "    </tr>\n",
       "    <tr>\n",
       "      <th>True</th>\n",
       "      <td>0.0</td>\n",
       "      <td>1.0</td>\n",
       "    </tr>\n",
       "  </tbody>\n",
       "</table>\n",
       "</div>"
      ],
      "text/plain": [
       "W            False  True \n",
       "R     S                  \n",
       "False False    1.0    0.0\n",
       "      True     0.0    1.0\n",
       "True  False    0.0    1.0\n",
       "      True     0.0    1.0"
      ]
     },
     "execution_count": 80,
     "metadata": {},
     "output_type": "execute_result"
    }
   ],
   "source": [
    "testparent = model1.ls_nodes[2].ls_parents\n",
    "\n",
    "# subset its corresponding marginals\n",
    "testps = [model1.observations[x.name] for x in testparent]\n",
    "testcs = model1.observations[model1.ls_nodes[2].name]\n",
    "\n",
    "# finally, crosstab\n",
    "# # https://stackoverflow.com/questions/53510319/python-pandas-merging-with-more-than-one-level-overlap-on-a-multi-index-is-not\n",
    "pd.crosstab(testps, testcs, normalize = 'index').reset_index()\n",
    "pd.crosstab(testps, testcs, normalize = 'index')"
   ]
  },
  {
   "cell_type": "code",
   "execution_count": 72,
   "metadata": {},
   "outputs": [
    {
     "data": {
      "text/plain": [
       "[0       True\n",
       " 1       True\n",
       " 2      False\n",
       " 3       True\n",
       " 4       True\n",
       " 5      False\n",
       " 6      False\n",
       " 7       True\n",
       " 8       True\n",
       " 9      False\n",
       " 10      True\n",
       " 11     False\n",
       " 12     False\n",
       " 13      True\n",
       " 14      True\n",
       " 15     False\n",
       " 16      True\n",
       " 17     False\n",
       " 18     False\n",
       " 19     False\n",
       " 20     False\n",
       " 21      True\n",
       " 22     False\n",
       " 23     False\n",
       " 24      True\n",
       " 25      True\n",
       " 26     False\n",
       " 27     False\n",
       " 28     False\n",
       " 29      True\n",
       "        ...  \n",
       " 970    False\n",
       " 971     True\n",
       " 972     True\n",
       " 973     True\n",
       " 974    False\n",
       " 975     True\n",
       " 976    False\n",
       " 977    False\n",
       " 978     True\n",
       " 979    False\n",
       " 980     True\n",
       " 981     True\n",
       " 982     True\n",
       " 983    False\n",
       " 984    False\n",
       " 985     True\n",
       " 986     True\n",
       " 987     True\n",
       " 988     True\n",
       " 989    False\n",
       " 990    False\n",
       " 991    False\n",
       " 992     True\n",
       " 993    False\n",
       " 994     True\n",
       " 995     True\n",
       " 996    False\n",
       " 997    False\n",
       " 998     True\n",
       " 999    False\n",
       " Name: R, Length: 1000, dtype: bool, 0      False\n",
       " 1      False\n",
       " 2      False\n",
       " 3      False\n",
       " 4      False\n",
       " 5       True\n",
       " 6       True\n",
       " 7       True\n",
       " 8      False\n",
       " 9       True\n",
       " 10     False\n",
       " 11      True\n",
       " 12      True\n",
       " 13     False\n",
       " 14     False\n",
       " 15      True\n",
       " 16      True\n",
       " 17      True\n",
       " 18      True\n",
       " 19      True\n",
       " 20      True\n",
       " 21     False\n",
       " 22      True\n",
       " 23      True\n",
       " 24     False\n",
       " 25     False\n",
       " 26     False\n",
       " 27      True\n",
       " 28      True\n",
       " 29     False\n",
       "        ...  \n",
       " 970     True\n",
       " 971    False\n",
       " 972     True\n",
       " 973    False\n",
       " 974     True\n",
       " 975    False\n",
       " 976     True\n",
       " 977     True\n",
       " 978    False\n",
       " 979     True\n",
       " 980    False\n",
       " 981     True\n",
       " 982    False\n",
       " 983    False\n",
       " 984    False\n",
       " 985    False\n",
       " 986    False\n",
       " 987    False\n",
       " 988    False\n",
       " 989     True\n",
       " 990     True\n",
       " 991     True\n",
       " 992    False\n",
       " 993     True\n",
       " 994    False\n",
       " 995    False\n",
       " 996     True\n",
       " 997     True\n",
       " 998    False\n",
       " 999     True\n",
       " Name: S, Length: 1000, dtype: bool]"
      ]
     },
     "execution_count": 72,
     "metadata": {},
     "output_type": "execute_result"
    }
   ],
   "source": [
    "testps"
   ]
  },
  {
   "cell_type": "code",
   "execution_count": 73,
   "metadata": {},
   "outputs": [
    {
     "data": {
      "text/plain": [
       "0       True\n",
       "1       True\n",
       "2      False\n",
       "3       True\n",
       "4       True\n",
       "5       True\n",
       "6       True\n",
       "7       True\n",
       "8       True\n",
       "9       True\n",
       "10      True\n",
       "11      True\n",
       "12      True\n",
       "13      True\n",
       "14      True\n",
       "15      True\n",
       "16      True\n",
       "17      True\n",
       "18      True\n",
       "19      True\n",
       "20      True\n",
       "21      True\n",
       "22      True\n",
       "23      True\n",
       "24      True\n",
       "25      True\n",
       "26     False\n",
       "27      True\n",
       "28      True\n",
       "29      True\n",
       "       ...  \n",
       "970     True\n",
       "971     True\n",
       "972     True\n",
       "973     True\n",
       "974     True\n",
       "975     True\n",
       "976     True\n",
       "977     True\n",
       "978     True\n",
       "979     True\n",
       "980     True\n",
       "981     True\n",
       "982     True\n",
       "983    False\n",
       "984    False\n",
       "985     True\n",
       "986     True\n",
       "987     True\n",
       "988     True\n",
       "989     True\n",
       "990     True\n",
       "991     True\n",
       "992     True\n",
       "993     True\n",
       "994     True\n",
       "995     True\n",
       "996     True\n",
       "997     True\n",
       "998     True\n",
       "999     True\n",
       "Name: W, Length: 1000, dtype: bool"
      ]
     },
     "execution_count": 73,
     "metadata": {},
     "output_type": "execute_result"
    }
   ],
   "source": [
    "testcs"
   ]
  },
  {
   "cell_type": "code",
   "execution_count": 52,
   "metadata": {},
   "outputs": [
    {
     "ename": "KeyError",
     "evalue": "'C'",
     "output_type": "error",
     "traceback": [
      "\u001b[0;31m---------------------------------------------------------------------------\u001b[0m",
      "\u001b[0;31mKeyError\u001b[0m                                  Traceback (most recent call last)",
      "\u001b[0;32m~/anaconda3/envs/py36/lib/python3.6/site-packages/pandas/core/indexes/base.py\u001b[0m in \u001b[0;36mget_loc\u001b[0;34m(self, key, method, tolerance)\u001b[0m\n\u001b[1;32m   2656\u001b[0m             \u001b[0;32mtry\u001b[0m\u001b[0;34m:\u001b[0m\u001b[0;34m\u001b[0m\u001b[0;34m\u001b[0m\u001b[0m\n\u001b[0;32m-> 2657\u001b[0;31m                 \u001b[0;32mreturn\u001b[0m \u001b[0mself\u001b[0m\u001b[0;34m.\u001b[0m\u001b[0m_engine\u001b[0m\u001b[0;34m.\u001b[0m\u001b[0mget_loc\u001b[0m\u001b[0;34m(\u001b[0m\u001b[0mkey\u001b[0m\u001b[0;34m)\u001b[0m\u001b[0;34m\u001b[0m\u001b[0;34m\u001b[0m\u001b[0m\n\u001b[0m\u001b[1;32m   2658\u001b[0m             \u001b[0;32mexcept\u001b[0m \u001b[0mKeyError\u001b[0m\u001b[0;34m:\u001b[0m\u001b[0;34m\u001b[0m\u001b[0;34m\u001b[0m\u001b[0m\n",
      "\u001b[0;32mpandas/_libs/index.pyx\u001b[0m in \u001b[0;36mpandas._libs.index.IndexEngine.get_loc\u001b[0;34m()\u001b[0m\n",
      "\u001b[0;32mpandas/_libs/index.pyx\u001b[0m in \u001b[0;36mpandas._libs.index.IndexEngine.get_loc\u001b[0;34m()\u001b[0m\n",
      "\u001b[0;32mpandas/_libs/hashtable_class_helper.pxi\u001b[0m in \u001b[0;36mpandas._libs.hashtable.PyObjectHashTable.get_item\u001b[0;34m()\u001b[0m\n",
      "\u001b[0;32mpandas/_libs/hashtable_class_helper.pxi\u001b[0m in \u001b[0;36mpandas._libs.hashtable.PyObjectHashTable.get_item\u001b[0;34m()\u001b[0m\n",
      "\u001b[0;31mKeyError\u001b[0m: 'C'",
      "\nDuring handling of the above exception, another exception occurred:\n",
      "\u001b[0;31mKeyError\u001b[0m                                  Traceback (most recent call last)",
      "\u001b[0;32m<ipython-input-52-c286b96d6ba0>\u001b[0m in \u001b[0;36m<module>\u001b[0;34m\u001b[0m\n\u001b[0;32m----> 1\u001b[0;31m \u001b[0mmodel1\u001b[0m\u001b[0;34m.\u001b[0m\u001b[0m_calculate_cpt\u001b[0m\u001b[0;34m(\u001b[0m\u001b[0mR\u001b[0m\u001b[0;34m)\u001b[0m\u001b[0;34m\u001b[0m\u001b[0;34m\u001b[0m\u001b[0m\n\u001b[0m",
      "\u001b[0;32m~/basilisk/basilisk/Basilisk.py\u001b[0m in \u001b[0;36m_calculate_cpt\u001b[0;34m(self, node)\u001b[0m\n\u001b[1;32m     86\u001b[0m \u001b[0;34m\u001b[0m\u001b[0m\n\u001b[1;32m     87\u001b[0m         \u001b[0;31m# subset its corresponding marginals\u001b[0m\u001b[0;34m\u001b[0m\u001b[0;34m\u001b[0m\u001b[0;34m\u001b[0m\u001b[0m\n\u001b[0;32m---> 88\u001b[0;31m         \u001b[0mps\u001b[0m \u001b[0;34m=\u001b[0m \u001b[0;34m[\u001b[0m\u001b[0mself\u001b[0m\u001b[0;34m.\u001b[0m\u001b[0mobservations\u001b[0m\u001b[0;34m[\u001b[0m\u001b[0mx\u001b[0m\u001b[0;34m.\u001b[0m\u001b[0mname\u001b[0m\u001b[0;34m]\u001b[0m \u001b[0;32mfor\u001b[0m \u001b[0mx\u001b[0m \u001b[0;32min\u001b[0m \u001b[0mparent\u001b[0m\u001b[0;34m]\u001b[0m\u001b[0;34m\u001b[0m\u001b[0;34m\u001b[0m\u001b[0m\n\u001b[0m\u001b[1;32m     89\u001b[0m         \u001b[0mcs\u001b[0m \u001b[0;34m=\u001b[0m \u001b[0mself\u001b[0m\u001b[0;34m.\u001b[0m\u001b[0mobservations\u001b[0m\u001b[0;34m[\u001b[0m\u001b[0mnode\u001b[0m\u001b[0;34m.\u001b[0m\u001b[0mname\u001b[0m\u001b[0;34m]\u001b[0m\u001b[0;34m\u001b[0m\u001b[0;34m\u001b[0m\u001b[0m\n\u001b[1;32m     90\u001b[0m \u001b[0;34m\u001b[0m\u001b[0m\n",
      "\u001b[0;32m~/basilisk/basilisk/Basilisk.py\u001b[0m in \u001b[0;36m<listcomp>\u001b[0;34m(.0)\u001b[0m\n\u001b[1;32m     86\u001b[0m \u001b[0;34m\u001b[0m\u001b[0m\n\u001b[1;32m     87\u001b[0m         \u001b[0;31m# subset its corresponding marginals\u001b[0m\u001b[0;34m\u001b[0m\u001b[0;34m\u001b[0m\u001b[0;34m\u001b[0m\u001b[0m\n\u001b[0;32m---> 88\u001b[0;31m         \u001b[0mps\u001b[0m \u001b[0;34m=\u001b[0m \u001b[0;34m[\u001b[0m\u001b[0mself\u001b[0m\u001b[0;34m.\u001b[0m\u001b[0mobservations\u001b[0m\u001b[0;34m[\u001b[0m\u001b[0mx\u001b[0m\u001b[0;34m.\u001b[0m\u001b[0mname\u001b[0m\u001b[0;34m]\u001b[0m \u001b[0;32mfor\u001b[0m \u001b[0mx\u001b[0m \u001b[0;32min\u001b[0m \u001b[0mparent\u001b[0m\u001b[0;34m]\u001b[0m\u001b[0;34m\u001b[0m\u001b[0;34m\u001b[0m\u001b[0m\n\u001b[0m\u001b[1;32m     89\u001b[0m         \u001b[0mcs\u001b[0m \u001b[0;34m=\u001b[0m \u001b[0mself\u001b[0m\u001b[0;34m.\u001b[0m\u001b[0mobservations\u001b[0m\u001b[0;34m[\u001b[0m\u001b[0mnode\u001b[0m\u001b[0;34m.\u001b[0m\u001b[0mname\u001b[0m\u001b[0;34m]\u001b[0m\u001b[0;34m\u001b[0m\u001b[0;34m\u001b[0m\u001b[0m\n\u001b[1;32m     90\u001b[0m \u001b[0;34m\u001b[0m\u001b[0m\n",
      "\u001b[0;32m~/anaconda3/envs/py36/lib/python3.6/site-packages/pandas/core/frame.py\u001b[0m in \u001b[0;36m__getitem__\u001b[0;34m(self, key)\u001b[0m\n\u001b[1;32m   2925\u001b[0m             \u001b[0;32mif\u001b[0m \u001b[0mself\u001b[0m\u001b[0;34m.\u001b[0m\u001b[0mcolumns\u001b[0m\u001b[0;34m.\u001b[0m\u001b[0mnlevels\u001b[0m \u001b[0;34m>\u001b[0m \u001b[0;36m1\u001b[0m\u001b[0;34m:\u001b[0m\u001b[0;34m\u001b[0m\u001b[0;34m\u001b[0m\u001b[0m\n\u001b[1;32m   2926\u001b[0m                 \u001b[0;32mreturn\u001b[0m \u001b[0mself\u001b[0m\u001b[0;34m.\u001b[0m\u001b[0m_getitem_multilevel\u001b[0m\u001b[0;34m(\u001b[0m\u001b[0mkey\u001b[0m\u001b[0;34m)\u001b[0m\u001b[0;34m\u001b[0m\u001b[0;34m\u001b[0m\u001b[0m\n\u001b[0;32m-> 2927\u001b[0;31m             \u001b[0mindexer\u001b[0m \u001b[0;34m=\u001b[0m \u001b[0mself\u001b[0m\u001b[0;34m.\u001b[0m\u001b[0mcolumns\u001b[0m\u001b[0;34m.\u001b[0m\u001b[0mget_loc\u001b[0m\u001b[0;34m(\u001b[0m\u001b[0mkey\u001b[0m\u001b[0;34m)\u001b[0m\u001b[0;34m\u001b[0m\u001b[0;34m\u001b[0m\u001b[0m\n\u001b[0m\u001b[1;32m   2928\u001b[0m             \u001b[0;32mif\u001b[0m \u001b[0mis_integer\u001b[0m\u001b[0;34m(\u001b[0m\u001b[0mindexer\u001b[0m\u001b[0;34m)\u001b[0m\u001b[0;34m:\u001b[0m\u001b[0;34m\u001b[0m\u001b[0;34m\u001b[0m\u001b[0m\n\u001b[1;32m   2929\u001b[0m                 \u001b[0mindexer\u001b[0m \u001b[0;34m=\u001b[0m \u001b[0;34m[\u001b[0m\u001b[0mindexer\u001b[0m\u001b[0;34m]\u001b[0m\u001b[0;34m\u001b[0m\u001b[0;34m\u001b[0m\u001b[0m\n",
      "\u001b[0;32m~/anaconda3/envs/py36/lib/python3.6/site-packages/pandas/core/indexes/base.py\u001b[0m in \u001b[0;36mget_loc\u001b[0;34m(self, key, method, tolerance)\u001b[0m\n\u001b[1;32m   2657\u001b[0m                 \u001b[0;32mreturn\u001b[0m \u001b[0mself\u001b[0m\u001b[0;34m.\u001b[0m\u001b[0m_engine\u001b[0m\u001b[0;34m.\u001b[0m\u001b[0mget_loc\u001b[0m\u001b[0;34m(\u001b[0m\u001b[0mkey\u001b[0m\u001b[0;34m)\u001b[0m\u001b[0;34m\u001b[0m\u001b[0;34m\u001b[0m\u001b[0m\n\u001b[1;32m   2658\u001b[0m             \u001b[0;32mexcept\u001b[0m \u001b[0mKeyError\u001b[0m\u001b[0;34m:\u001b[0m\u001b[0;34m\u001b[0m\u001b[0;34m\u001b[0m\u001b[0m\n\u001b[0;32m-> 2659\u001b[0;31m                 \u001b[0;32mreturn\u001b[0m \u001b[0mself\u001b[0m\u001b[0;34m.\u001b[0m\u001b[0m_engine\u001b[0m\u001b[0;34m.\u001b[0m\u001b[0mget_loc\u001b[0m\u001b[0;34m(\u001b[0m\u001b[0mself\u001b[0m\u001b[0;34m.\u001b[0m\u001b[0m_maybe_cast_indexer\u001b[0m\u001b[0;34m(\u001b[0m\u001b[0mkey\u001b[0m\u001b[0;34m)\u001b[0m\u001b[0;34m)\u001b[0m\u001b[0;34m\u001b[0m\u001b[0;34m\u001b[0m\u001b[0m\n\u001b[0m\u001b[1;32m   2660\u001b[0m         \u001b[0mindexer\u001b[0m \u001b[0;34m=\u001b[0m \u001b[0mself\u001b[0m\u001b[0;34m.\u001b[0m\u001b[0mget_indexer\u001b[0m\u001b[0;34m(\u001b[0m\u001b[0;34m[\u001b[0m\u001b[0mkey\u001b[0m\u001b[0;34m]\u001b[0m\u001b[0;34m,\u001b[0m \u001b[0mmethod\u001b[0m\u001b[0;34m=\u001b[0m\u001b[0mmethod\u001b[0m\u001b[0;34m,\u001b[0m \u001b[0mtolerance\u001b[0m\u001b[0;34m=\u001b[0m\u001b[0mtolerance\u001b[0m\u001b[0;34m)\u001b[0m\u001b[0;34m\u001b[0m\u001b[0;34m\u001b[0m\u001b[0m\n\u001b[1;32m   2661\u001b[0m         \u001b[0;32mif\u001b[0m \u001b[0mindexer\u001b[0m\u001b[0;34m.\u001b[0m\u001b[0mndim\u001b[0m \u001b[0;34m>\u001b[0m \u001b[0;36m1\u001b[0m \u001b[0;32mor\u001b[0m \u001b[0mindexer\u001b[0m\u001b[0;34m.\u001b[0m\u001b[0msize\u001b[0m \u001b[0;34m>\u001b[0m \u001b[0;36m1\u001b[0m\u001b[0;34m:\u001b[0m\u001b[0;34m\u001b[0m\u001b[0;34m\u001b[0m\u001b[0m\n",
      "\u001b[0;32mpandas/_libs/index.pyx\u001b[0m in \u001b[0;36mpandas._libs.index.IndexEngine.get_loc\u001b[0;34m()\u001b[0m\n",
      "\u001b[0;32mpandas/_libs/index.pyx\u001b[0m in \u001b[0;36mpandas._libs.index.IndexEngine.get_loc\u001b[0;34m()\u001b[0m\n",
      "\u001b[0;32mpandas/_libs/hashtable_class_helper.pxi\u001b[0m in \u001b[0;36mpandas._libs.hashtable.PyObjectHashTable.get_item\u001b[0;34m()\u001b[0m\n",
      "\u001b[0;32mpandas/_libs/hashtable_class_helper.pxi\u001b[0m in \u001b[0;36mpandas._libs.hashtable.PyObjectHashTable.get_item\u001b[0;34m()\u001b[0m\n",
      "\u001b[0;31mKeyError\u001b[0m: 'C'"
     ]
    }
   ],
   "source": [
    "model1._calculate_cpt(R)"
   ]
  },
  {
   "cell_type": "code",
   "execution_count": 50,
   "metadata": {},
   "outputs": [
    {
     "data": {
      "text/plain": [
       "[<basilisk.Node.Node at 0x7f76d2d6bc88>,\n",
       " <basilisk.Node.Node at 0x7f76d2d6b630>,\n",
       " <basilisk.Node.Node at 0x7f76d2d6b5f8>]"
      ]
     },
     "execution_count": 50,
     "metadata": {},
     "output_type": "execute_result"
    }
   ],
   "source": [
    "model1.ls_nodes"
   ]
  },
  {
   "cell_type": "code",
   "execution_count": 51,
   "metadata": {},
   "outputs": [
    {
     "data": {
      "text/plain": [
       "'S'"
      ]
     },
     "execution_count": 51,
     "metadata": {},
     "output_type": "execute_result"
    },
    {
     "data": {
      "text/plain": [
       "[]"
      ]
     },
     "execution_count": 51,
     "metadata": {},
     "output_type": "execute_result"
    }
   ],
   "source": [
    "model1.ls_nodes[1].name\n",
    "model1.ls_nodes[1].ls_parents"
   ]
  },
  {
   "cell_type": "markdown",
   "metadata": {},
   "source": [
    "### Define Partial Model 2"
   ]
  },
  {
   "cell_type": "code",
   "execution_count": 14,
   "metadata": {},
   "outputs": [
    {
     "data": {
      "image/png": "[encoded data removed]",
      "text/plain": [
       "<Figure size 432x288 with 1 Axes>"
      ]
     },
     "metadata": {
      "needs_background": "light"
     },
     "output_type": "display_data"
    }
   ],
   "source": [
    "C2 = Node('C')\n",
    "R2 = Node('R', [C2])\n",
    "S2 = Node('S', [C2])\n",
    "\n",
    "nodes2 = [C2, R2, S2]\n",
    "model2 = BN(nodes2)\n",
    "data2 = data.drop(['W'], axis=1)\n",
    "\n",
    "model2.show(node_size=600, node_color='gray')"
   ]
  },
  {
   "cell_type": "code",
   "execution_count": 18,
   "metadata": {},
   "outputs": [
    {
     "data": {
      "text/html": [
       "<div>\n",
       "<style scoped>\n",
       "    .dataframe tbody tr th:only-of-type {\n",
       "        vertical-align: middle;\n",
       "    }\n",
       "\n",
       "    .dataframe tbody tr th {\n",
       "        vertical-align: top;\n",
       "    }\n",
       "\n",
       "    .dataframe thead th {\n",
       "        text-align: right;\n",
       "    }\n",
       "</style>\n",
       "<table border=\"1\" class=\"dataframe\">\n",
       "  <thead>\n",
       "    <tr style=\"text-align: right;\">\n",
       "      <th>C</th>\n",
       "      <th>False</th>\n",
       "      <th>True</th>\n",
       "    </tr>\n",
       "  </thead>\n",
       "  <tbody>\n",
       "    <tr>\n",
       "      <th>0</th>\n",
       "      <td>0.507</td>\n",
       "      <td>0.493</td>\n",
       "    </tr>\n",
       "  </tbody>\n",
       "</table>\n",
       "</div>"
      ],
      "text/plain": [
       "C  False  True \n",
       "0  0.507  0.493"
      ]
     },
     "execution_count": 18,
     "metadata": {},
     "output_type": "execute_result"
    },
    {
     "data": {
      "text/html": [
       "<div>\n",
       "<style scoped>\n",
       "    .dataframe tbody tr th:only-of-type {\n",
       "        vertical-align: middle;\n",
       "    }\n",
       "\n",
       "    .dataframe tbody tr th {\n",
       "        vertical-align: top;\n",
       "    }\n",
       "\n",
       "    .dataframe thead th {\n",
       "        text-align: right;\n",
       "    }\n",
       "</style>\n",
       "<table border=\"1\" class=\"dataframe\">\n",
       "  <thead>\n",
       "    <tr style=\"text-align: right;\">\n",
       "      <th>R</th>\n",
       "      <th>C</th>\n",
       "      <th>False</th>\n",
       "      <th>True</th>\n",
       "    </tr>\n",
       "  </thead>\n",
       "  <tbody>\n",
       "    <tr>\n",
       "      <th>0</th>\n",
       "      <td>False</td>\n",
       "      <td>0.992110</td>\n",
       "      <td>0.007890</td>\n",
       "    </tr>\n",
       "    <tr>\n",
       "      <th>1</th>\n",
       "      <td>True</td>\n",
       "      <td>0.014199</td>\n",
       "      <td>0.985801</td>\n",
       "    </tr>\n",
       "  </tbody>\n",
       "</table>\n",
       "</div>"
      ],
      "text/plain": [
       "R      C     False      True\n",
       "0  False  0.992110  0.007890\n",
       "1   True  0.014199  0.985801"
      ]
     },
     "execution_count": 18,
     "metadata": {},
     "output_type": "execute_result"
    },
    {
     "data": {
      "text/html": [
       "<div>\n",
       "<style scoped>\n",
       "    .dataframe tbody tr th:only-of-type {\n",
       "        vertical-align: middle;\n",
       "    }\n",
       "\n",
       "    .dataframe tbody tr th {\n",
       "        vertical-align: top;\n",
       "    }\n",
       "\n",
       "    .dataframe thead th {\n",
       "        text-align: right;\n",
       "    }\n",
       "</style>\n",
       "<table border=\"1\" class=\"dataframe\">\n",
       "  <thead>\n",
       "    <tr style=\"text-align: right;\">\n",
       "      <th>S</th>\n",
       "      <th>C</th>\n",
       "      <th>False</th>\n",
       "      <th>True</th>\n",
       "    </tr>\n",
       "  </thead>\n",
       "  <tbody>\n",
       "    <tr>\n",
       "      <th>0</th>\n",
       "      <td>False</td>\n",
       "      <td>0.009862</td>\n",
       "      <td>0.990138</td>\n",
       "    </tr>\n",
       "    <tr>\n",
       "      <th>1</th>\n",
       "      <td>True</td>\n",
       "      <td>0.989858</td>\n",
       "      <td>0.010142</td>\n",
       "    </tr>\n",
       "  </tbody>\n",
       "</table>\n",
       "</div>"
      ],
      "text/plain": [
       "S      C     False      True\n",
       "0  False  0.009862  0.990138\n",
       "1   True  0.989858  0.010142"
      ]
     },
     "execution_count": 18,
     "metadata": {},
     "output_type": "execute_result"
    }
   ],
   "source": [
    "model2.fit(data2)\n",
    "model2.ls_nodes[0].cpt\n",
    "model2.ls_nodes[1].cpt\n",
    "model2.ls_nodes[2].cpt"
   ]
  },
  {
   "cell_type": "markdown",
   "metadata": {},
   "source": [
    "### Define Partial Model 3"
   ]
  },
  {
   "cell_type": "code",
   "execution_count": 15,
   "metadata": {},
   "outputs": [
    {
     "data": {
      "image/png": "[encoded data removed]",
      "text/plain": [
       "<Figure size 432x288 with 1 Axes>"
      ]
     },
     "metadata": {
      "needs_background": "light"
     },
     "output_type": "display_data"
    }
   ],
   "source": [
    "C3 = Node('C')\n",
    "R3 = Node('R', [C3])\n",
    "W3 = Node('W', [R3])\n",
    "\n",
    "nodes3 = [C3, R3, W3]\n",
    "model3 = BN(nodes3)\n",
    "data3 = data.drop(['S'], axis=1)\n",
    "\n",
    "model3.show(node_size=600, node_color='gray')"
   ]
  },
  {
   "cell_type": "code",
   "execution_count": 19,
   "metadata": {},
   "outputs": [
    {
     "data": {
      "text/html": [
       "<div>\n",
       "<style scoped>\n",
       "    .dataframe tbody tr th:only-of-type {\n",
       "        vertical-align: middle;\n",
       "    }\n",
       "\n",
       "    .dataframe tbody tr th {\n",
       "        vertical-align: top;\n",
       "    }\n",
       "\n",
       "    .dataframe thead th {\n",
       "        text-align: right;\n",
       "    }\n",
       "</style>\n",
       "<table border=\"1\" class=\"dataframe\">\n",
       "  <thead>\n",
       "    <tr style=\"text-align: right;\">\n",
       "      <th>C</th>\n",
       "      <th>False</th>\n",
       "      <th>True</th>\n",
       "    </tr>\n",
       "  </thead>\n",
       "  <tbody>\n",
       "    <tr>\n",
       "      <th>0</th>\n",
       "      <td>0.507</td>\n",
       "      <td>0.493</td>\n",
       "    </tr>\n",
       "  </tbody>\n",
       "</table>\n",
       "</div>"
      ],
      "text/plain": [
       "C  False  True \n",
       "0  0.507  0.493"
      ]
     },
     "execution_count": 19,
     "metadata": {},
     "output_type": "execute_result"
    },
    {
     "data": {
      "text/html": [
       "<div>\n",
       "<style scoped>\n",
       "    .dataframe tbody tr th:only-of-type {\n",
       "        vertical-align: middle;\n",
       "    }\n",
       "\n",
       "    .dataframe tbody tr th {\n",
       "        vertical-align: top;\n",
       "    }\n",
       "\n",
       "    .dataframe thead th {\n",
       "        text-align: right;\n",
       "    }\n",
       "</style>\n",
       "<table border=\"1\" class=\"dataframe\">\n",
       "  <thead>\n",
       "    <tr style=\"text-align: right;\">\n",
       "      <th>R</th>\n",
       "      <th>C</th>\n",
       "      <th>False</th>\n",
       "      <th>True</th>\n",
       "    </tr>\n",
       "  </thead>\n",
       "  <tbody>\n",
       "    <tr>\n",
       "      <th>0</th>\n",
       "      <td>False</td>\n",
       "      <td>0.992110</td>\n",
       "      <td>0.007890</td>\n",
       "    </tr>\n",
       "    <tr>\n",
       "      <th>1</th>\n",
       "      <td>True</td>\n",
       "      <td>0.014199</td>\n",
       "      <td>0.985801</td>\n",
       "    </tr>\n",
       "  </tbody>\n",
       "</table>\n",
       "</div>"
      ],
      "text/plain": [
       "R      C     False      True\n",
       "0  False  0.992110  0.007890\n",
       "1   True  0.014199  0.985801"
      ]
     },
     "execution_count": 19,
     "metadata": {},
     "output_type": "execute_result"
    },
    {
     "data": {
      "text/html": [
       "<div>\n",
       "<style scoped>\n",
       "    .dataframe tbody tr th:only-of-type {\n",
       "        vertical-align: middle;\n",
       "    }\n",
       "\n",
       "    .dataframe tbody tr th {\n",
       "        vertical-align: top;\n",
       "    }\n",
       "\n",
       "    .dataframe thead th {\n",
       "        text-align: right;\n",
       "    }\n",
       "</style>\n",
       "<table border=\"1\" class=\"dataframe\">\n",
       "  <thead>\n",
       "    <tr style=\"text-align: right;\">\n",
       "      <th>W</th>\n",
       "      <th>R</th>\n",
       "      <th>False</th>\n",
       "      <th>True</th>\n",
       "    </tr>\n",
       "  </thead>\n",
       "  <tbody>\n",
       "    <tr>\n",
       "      <th>0</th>\n",
       "      <td>False</td>\n",
       "      <td>0.023529</td>\n",
       "      <td>0.976471</td>\n",
       "    </tr>\n",
       "    <tr>\n",
       "      <th>1</th>\n",
       "      <td>True</td>\n",
       "      <td>0.000000</td>\n",
       "      <td>1.000000</td>\n",
       "    </tr>\n",
       "  </tbody>\n",
       "</table>\n",
       "</div>"
      ],
      "text/plain": [
       "W      R     False      True\n",
       "0  False  0.023529  0.976471\n",
       "1   True  0.000000  1.000000"
      ]
     },
     "execution_count": 19,
     "metadata": {},
     "output_type": "execute_result"
    }
   ],
   "source": [
    "model3.fit(data3)\n",
    "model3.ls_nodes[0].cpt\n",
    "model3.ls_nodes[1].cpt\n",
    "model3.ls_nodes[2].cpt"
   ]
  },
  {
   "cell_type": "markdown",
   "metadata": {
    "collapsed": true
   },
   "source": [
    "## PC Fresh"
   ]
  },
  {
   "cell_type": "code",
   "execution_count": 8,
   "metadata": {},
   "outputs": [],
   "source": [
    "import copy\n",
    "import itertools\n",
    "import numpy as np\n",
    "import pandas as pd\n",
    "from scipy import stats"
   ]
  },
  {
   "cell_type": "code",
   "execution_count": 9,
   "metadata": {},
   "outputs": [],
   "source": [
    "def mutual_info(data, bins):\n",
    "    \"\"\"\n",
    "    inputs:\n",
    "        data - first two columns are dependent variables and remaining are conditioned on\n",
    "        bins - # of bins for each variable - determines resolution for pdf\n",
    "        \n",
    "    outputs:\n",
    "        mutual or conditional mutual information depending on # columns\n",
    "    \"\"\"\n",
    "    eps = 1e-10\n",
    "\n",
    "    hist, edges = np.histogramdd(data, bins=bins)\n",
    "\n",
    "    Pxyz = hist / data.shape[0] #P(X,Y,{Z})\n",
    "    Pz = np.sum(Pxyz, axis = (0,1)) # P({Z})\n",
    "    Pxz = np.sum(Pxyz, axis = 1) # P(X,{Z})\n",
    "    Pyz = np.sum(Pxyz, axis = 0) # P(Y,{Z})\n",
    "    \n",
    "    dimtile = list(Pxyz.shape)\n",
    "    dimtile[-len(Pz.shape):] = [1]*len(Pz.shape) if len(Pz.shape) > 0 else dimtile\n",
    "    Pz = np.tile(Pz, tuple(dimtile))\n",
    "    dimtile[-len(Pxz.shape):] = [1]*len(Pxz.shape)\n",
    "    Pxz = np.swapaxes(np.tile(Pxz, tuple(dimtile)), 0, 1)\n",
    "    Pyz = np.tile(Pyz, tuple(dimtile))\n",
    "    \n",
    "    lognum = Pxyz*Pz + eps\n",
    "    logden = Pxz*Pyz + eps\n",
    "\n",
    "    cmi = np.sum(Pxyz * np.log(lognum / logden))\n",
    "    \n",
    "    chi2 = 2*len(data)*cmi\n",
    "    df = (bins[0] - 1)*(bins[1] - 1)*np.prod(bins[2:])\n",
    "    p_val = 2*stats.chi2.pdf(chi2, df)\n",
    "    \n",
    "    return cmi, p_val"
   ]
  },
  {
   "cell_type": "code",
   "execution_count": 10,
   "metadata": {},
   "outputs": [],
   "source": [
    "def dseperation(depvars, indvars, alpha):\n",
    "    \"\"\"\n",
    "    d-separation test using mutual information\n",
    "    inputs:\n",
    "        depvars - data for two dependent variables as 2-column dataframe\n",
    "        indvars - data for N independent variables as N-column dataframe\n",
    "        alpha - pvalue threshold for dependence test\n",
    "\n",
    "    output:\n",
    "        boolean value dependent on alpha threshold\n",
    "\n",
    "    issues:\n",
    "        can only handle integer valued data\n",
    "    \"\"\"\n",
    "    depbins = depvars.apply(pd.Series.nunique).values\n",
    "    indbins = indvars.apply(pd.Series.nunique).values\n",
    "    depdata = depvars.values.astype(int)\n",
    "    inddata = indvars.values.astype(int)\n",
    "    data = np.concatenate((depdata, inddata), axis = 1)\n",
    "    bins = np.concatenate((depbins, indbins))\n",
    "\n",
    "    assert len(depbins) == 2\n",
    "\n",
    "    mi, p_val = mutual_info(data, bins)\n",
    "\n",
    "    print(\"mi: \", np.around(mi, 4), \"pval: \", p_val, \\\n",
    "          depvars.columns.values, indvars.columns.values)\n",
    "\n",
    "    if p_val > alpha:\n",
    "        return True\n",
    "    else:\n",
    "        return False"
   ]
  },
  {
   "cell_type": "code",
   "execution_count": 32,
   "metadata": {},
   "outputs": [],
   "source": [
    "def pc_fresh(data, alpha):\n",
    "    \"\"\"\n",
    "    path condition algorithm (spirtes 2nd ed 5.4.2)\n",
    "    \n",
    "    pseudo-code:\n",
    "    \n",
    "    1) initialize complete undirected \"graph\"\n",
    "    2) perform d-sep test \n",
    "    \n",
    "        n = 0\n",
    "        repeat:\n",
    "            for each x in graph:\n",
    "                for each y in adj(x) s.t. |adj(x) \\ y| >= n:\n",
    "                    for each subset z in adj(x) \\ y s.t. |z| = n:\n",
    "                        if x and y are d-separated given z:\n",
    "                            remove edge x-y from graph\n",
    "                            record z in sepset(x,y) and sepset(y,x)\n",
    "            n = n + 1\n",
    "        until: |adj(x) \\ y| < n for every pair x,y\n",
    "        \n",
    "    3) find collider nodes\n",
    "    \n",
    "        for each triplet x, y, z in graph:\n",
    "            if x,y and y,z are adjacent but x,z is not adjacent:\n",
    "                iff y is not in sepset(x,z):\n",
    "                    orient x - y - z as x -> y <- z\n",
    "    \n",
    "    4) orient remaining edges\n",
    "    \n",
    "        repeat:\n",
    "            if x -> y:\n",
    "                for all z s.t. z is adjacent to y and z is not adjacent to x:\n",
    "                    if there is no arrowhead at y:\n",
    "                        orient y - z as y -> z\n",
    "            if a directed path from x to y exists:\n",
    "                if an edge exists between x and y:\n",
    "                    orient x - y as x -> y\n",
    "        until: no more edges to orient\n",
    "    \"\"\"\n",
    "    \n",
    "    labels = data.apply(pd.Series.nunique).index.values\n",
    "    graph = dict([(x, [y for y in labels if x!=y]) for x in labels])\n",
    "    sepset = dict([(x, []) for x in labels])\n",
    "    print(\"initial graph: \", graph)\n",
    "    n = 1\n",
    "    stop = False\n",
    "    while not stop:\n",
    "        for x in labels: #loop through vertices x\n",
    "            if len(graph[x]) - 1 >= n: #if |adj(x)| - 1 >= n\n",
    "                for y in graph[x]: #loop through adj(x)\n",
    "                    adj = copy.deepcopy(graph[x])\n",
    "                    adj.remove(y) #define adj(x) \\ y\n",
    "                    for z in itertools.combinations(adj, n): #loop through adj(x) \\ y\n",
    "                        if dseperation(data[[x, y]], data[list(z)], alpha):\n",
    "                            print(\"gottem: \", y, graph[x])\n",
    "                            if y in graph[x]: #remove x-y edge\n",
    "                                graph[x].remove(y)\n",
    "                                graph[y].remove(x)\n",
    "                            sepset[x] = {y:z} #add z to sepset(x,y)\n",
    "                            sepset[y] = {x:z} #add z to sepset(y,x)\n",
    "                    del adj #probably unecessary\n",
    "        n += 1\n",
    "        \n",
    "        for x in labels:\n",
    "            if len(graph[x]) > n - 1:\n",
    "                stop = False\n",
    "                break\n",
    "            else:\n",
    "                stop = True\n",
    "    print(\"final undirected: \", graph)\n",
    "\n",
    "    for x in graph.keys(): #orient edges\n",
    "        for y in graph[x]:\n",
    "            for z in graph[y]:\n",
    "                if z != x and x not in graph[z] and z not in graph[x]:\n",
    "                    if z in sepset[x] and y not in sepset[x][z]:\n",
    "                        if y in graph[x]:\n",
    "                            graph[y].remove(x)\n",
    "                            \n",
    "                        if y in graph[z]:\n",
    "                            graph[y].remove(z)\n",
    "                            \n",
    "    nodelist = [Node(x) for x in graph.keys()]\n",
    "    \n",
    "    print(\"final directed: \", graph)\n",
    "    \n",
    "    for child in nodelist:\n",
    "        parents = []\n",
    "\n",
    "        for parent in nodelist:\n",
    "            if child.name in graph.get(parent.name):\n",
    "                parents.append(parent )\n",
    "        child.ls_parents = parents\n",
    "        \n",
    "    return nodelist"
   ]
  },
  {
   "cell_type": "code",
   "execution_count": 29,
   "metadata": {},
   "outputs": [
    {
     "name": "stdout",
     "output_type": "stream",
     "text": [
      "initial graph:  {'cloudy': ['rain', 'sprinkler', 'wet'], 'rain': ['cloudy', 'sprinkler', 'wet'], 'sprinkler': ['cloudy', 'rain', 'wet'], 'wet': ['cloudy', 'rain', 'sprinkler']}\n",
      "mi:  0.18 pval:  2.747850746448526e-80 ['cloudy' 'rain'] []\n",
      "mi:  0.0988 pval:  6.943933513919783e-45 ['cloudy' 'sprinkler'] []\n",
      "mi:  0.0192 pval:  5.84545098042687e-10 ['cloudy' 'wet'] []\n",
      "mi:  0.18 pval:  2.747850746448526e-80 ['rain' 'cloudy'] []\n",
      "mi:  0.0348 pval:  7.033812140570838e-17 ['rain' 'sprinkler'] []\n",
      "mi:  0.1781 pval:  1.819678743455108e-79 ['rain' 'wet'] []\n",
      "mi:  0.0988 pval:  6.943933513919783e-45 ['sprinkler' 'cloudy'] []\n",
      "mi:  0.0348 pval:  7.033812140570838e-17 ['sprinkler' 'rain'] []\n",
      "mi:  0.0767 pval:  3.1808570118053143e-35 ['sprinkler' 'wet'] []\n",
      "mi:  0.0192 pval:  5.84545098042687e-10 ['wet' 'cloudy'] []\n",
      "mi:  0.1781 pval:  1.8196787434553667e-79 ['wet' 'rain'] []\n",
      "mi:  0.0767 pval:  3.1808570118053143e-35 ['wet' 'sprinkler'] []\n",
      "mi:  0.1455 pval:  6.269252094322976e-64 ['cloudy' 'rain'] ['sprinkler']\n",
      "mi:  0.1852 pval:  3.7905395624600947e-81 ['cloudy' 'rain'] ['wet']\n",
      "mi:  0.0643 pval:  1.173703964271977e-28 ['cloudy' 'sprinkler'] ['rain']\n",
      "mi:  0.1693 pval:  3.0312733801307896e-74 ['cloudy' 'sprinkler'] ['wet']\n",
      "mi:  0.0244 pval:  2.6340362212902817e-11 ['cloudy' 'wet'] ['rain']\n",
      "mi:  0.0897 pval:  1.1251309175458407e-39 ['cloudy' 'wet'] ['sprinkler']\n",
      "mi:  0.1455 pval:  6.269252094322976e-64 ['rain' 'cloudy'] ['sprinkler']\n",
      "mi:  0.1852 pval:  3.7905395624600947e-81 ['rain' 'cloudy'] ['wet']\n",
      "mi:  0.0003 pval:  0.706020072510996 ['rain' 'sprinkler'] ['cloudy']\n",
      "gottem:  sprinkler ['cloudy', 'sprinkler', 'wet']\n",
      "mi:  0.2115 pval:  1.4403148718957325e-92 ['rain' 'sprinkler'] ['wet']\n",
      "mi:  0.1693 pval:  3.0312733801307032e-74 ['sprinkler' 'cloudy'] ['wet']\n",
      "mi:  0.1472 pval:  1.2233106184624039e-64 ['sprinkler' 'wet'] ['cloudy']\n",
      "mi:  0.0244 pval:  2.6340362212902817e-11 ['wet' 'cloudy'] ['rain']\n",
      "mi:  0.0897 pval:  1.1251309175458407e-39 ['wet' 'cloudy'] ['sprinkler']\n",
      "mi:  0.1833 pval:  2.496989812424042e-80 ['wet' 'rain'] ['cloudy']\n",
      "mi:  0.3548 pval:  8.425035827860578e-155 ['wet' 'rain'] ['sprinkler']\n",
      "mi:  0.1472 pval:  1.2233106184623691e-64 ['wet' 'sprinkler'] ['cloudy']\n",
      "mi:  0.2533 pval:  9.662969093153768e-111 ['wet' 'sprinkler'] ['rain']\n",
      "mi:  0.0573 pval:  7.118842675473276e-24 ['cloudy' 'rain'] ['sprinkler' 'wet']\n",
      "mi:  0.0415 pval:  4.114891538022071e-17 ['cloudy' 'sprinkler'] ['rain' 'wet']\n",
      "mi:  0.0015 pval:  0.3345148104626348 ['cloudy' 'wet'] ['rain' 'sprinkler']\n",
      "gottem:  wet ['rain', 'sprinkler', 'wet']\n",
      "final undirected:  {'cloudy': ['rain', 'sprinkler'], 'rain': ['cloudy', 'wet'], 'sprinkler': ['cloudy', 'wet'], 'wet': ['rain', 'sprinkler']}\n",
      "final directed:  {'cloudy': ['rain', 'sprinkler'], 'rain': ['cloudy', 'wet'], 'sprinkler': ['cloudy', 'wet'], 'wet': []}\n"
     ]
    },
    {
     "data": {
      "image/png": "[encoded data removed]",
      "text/plain": [
       "<Figure size 432x288 with 1 Axes>"
      ]
     },
     "metadata": {
      "needs_background": "light"
     },
     "output_type": "display_data"
    }
   ],
   "source": [
    "obs1 = pd.read_csv(\"data/observations.csv\").drop('Unnamed: 0', axis = 1)\n",
    "\n",
    "BN(pc_fresh(obs1, 1e-1)).show(node_size=500, node_color='gray')"
   ]
  },
  {
   "cell_type": "code",
   "execution_count": 30,
   "metadata": {},
   "outputs": [
    {
     "name": "stdout",
     "output_type": "stream",
     "text": [
      "initial graph:  {'rain': ['sprinkler', 'wet'], 'sprinkler': ['rain', 'wet'], 'wet': ['rain', 'sprinkler']}\n",
      "mi:  0.0348 pval:  7.033812140570838e-17 ['rain' 'sprinkler'] []\n",
      "gottem:  sprinkler ['sprinkler', 'wet']\n",
      "mi:  0.0767 pval:  3.1808570118053143e-35 ['sprinkler' 'wet'] []\n",
      "mi:  0.1781 pval:  1.8196787434553667e-79 ['wet' 'rain'] []\n",
      "mi:  0.0767 pval:  3.1808570118053143e-35 ['wet' 'sprinkler'] []\n",
      "mi:  0.3548 pval:  8.425035827860578e-155 ['wet' 'rain'] ['sprinkler']\n",
      "mi:  0.2533 pval:  9.662969093153768e-111 ['wet' 'sprinkler'] ['rain']\n",
      "final undirected:  {'rain': ['wet'], 'sprinkler': ['wet'], 'wet': ['rain', 'sprinkler']}\n",
      "final directed:  {'rain': ['wet'], 'sprinkler': ['wet'], 'wet': []}\n"
     ]
    },
    {
     "data": {
      "image/png": "[encoded data removed]",
      "text/plain": [
       "<Figure size 432x288 with 1 Axes>"
      ]
     },
     "metadata": {
      "needs_background": "light"
     },
     "output_type": "display_data"
    }
   ],
   "source": [
    "BN(pc_fresh(obs1.drop('cloudy', axis = 1), 1e-17)).show(node_size=500, node_color='gray')"
   ]
  },
  {
   "cell_type": "code",
   "execution_count": 33,
   "metadata": {},
   "outputs": [
    {
     "name": "stdout",
     "output_type": "stream",
     "text": [
      "initial graph:  {'cloudy': ['sprinkler', 'wet'], 'sprinkler': ['cloudy', 'wet'], 'wet': ['cloudy', 'sprinkler']}\n",
      "mi:  0.1693 pval:  3.0312733801307896e-74 ['cloudy' 'sprinkler'] ['wet']\n",
      "mi:  0.0897 pval:  1.1251309175458407e-39 ['cloudy' 'wet'] ['sprinkler']\n",
      "mi:  0.1693 pval:  3.0312733801307032e-74 ['sprinkler' 'cloudy'] ['wet']\n",
      "mi:  0.1472 pval:  1.2233106184624039e-64 ['sprinkler' 'wet'] ['cloudy']\n",
      "mi:  0.0897 pval:  1.1251309175458407e-39 ['wet' 'cloudy'] ['sprinkler']\n",
      "mi:  0.1472 pval:  1.2233106184623691e-64 ['wet' 'sprinkler'] ['cloudy']\n",
      "final undirected:  {'cloudy': ['sprinkler', 'wet'], 'sprinkler': ['cloudy', 'wet'], 'wet': ['cloudy', 'sprinkler']}\n",
      "final directed:  {'cloudy': ['sprinkler', 'wet'], 'sprinkler': ['cloudy', 'wet'], 'wet': ['cloudy', 'sprinkler']}\n"
     ]
    },
    {
     "data": {
      "image/png": "[encoded data removed]",
      "text/plain": [
       "<Figure size 432x288 with 1 Axes>"
      ]
     },
     "metadata": {
      "needs_background": "light"
     },
     "output_type": "display_data"
    }
   ],
   "source": [
    "BN(pc_fresh(obs1.drop('rain', axis = 1), 1e-10)).show(node_size=500, node_color='gray')"
   ]
  },
  {
   "cell_type": "code",
   "execution_count": 27,
   "metadata": {},
   "outputs": [
    {
     "name": "stdout",
     "output_type": "stream",
     "text": [
      "initial graph:  {'cloudy': ['rain', 'wet'], 'rain': ['cloudy', 'wet'], 'wet': ['cloudy', 'rain']}\n",
      "mi:  0.1852 pval:  3.7905395624600947e-81 ['cloudy' 'rain'] ['wet']\n",
      "mi:  0.0244 pval:  2.6340362212902817e-11 ['cloudy' 'wet'] ['rain']\n",
      "mi:  0.1852 pval:  3.7905395624600947e-81 ['rain' 'cloudy'] ['wet']\n",
      "mi:  0.1833 pval:  2.496989812424042e-80 ['rain' 'wet'] ['cloudy']\n",
      "mi:  0.0244 pval:  2.6340362212902817e-11 ['wet' 'cloudy'] ['rain']\n",
      "mi:  0.1833 pval:  2.496989812424042e-80 ['wet' 'rain'] ['cloudy']\n",
      "final undirected:  {'cloudy': ['rain', 'wet'], 'rain': ['cloudy', 'wet'], 'wet': ['cloudy', 'rain']}\n",
      "final directed:  {'cloudy': ['rain', 'wet'], 'rain': ['cloudy', 'wet'], 'wet': ['cloudy', 'rain']}\n"
     ]
    },
    {
     "data": {
      "image/png": "[encoded data removed]",
      "text/plain": [
       "<Figure size 432x288 with 1 Axes>"
      ]
     },
     "metadata": {
      "needs_background": "light"
     },
     "output_type": "display_data"
    }
   ],
   "source": [
    "BN(pc_fresh(obs1.drop('sprinkler', axis = 1), 1e-1)).show(node_size=500, node_color='gray')"
   ]
  },
  {
   "cell_type": "code",
   "execution_count": 16,
   "metadata": {},
   "outputs": [
    {
     "name": "stdout",
     "output_type": "stream",
     "text": [
      "initial graph:  {'cloudy': ['rain', 'sprinkler'], 'rain': ['cloudy', 'sprinkler'], 'sprinkler': ['cloudy', 'rain']}\n",
      "mi:  0.18 pval:  2.747850746448526e-80 ['cloudy' 'rain'] []\n",
      "mi:  0.0988 pval:  6.943933513919783e-45 ['cloudy' 'sprinkler'] []\n",
      "mi:  0.18 pval:  2.747850746448526e-80 ['rain' 'cloudy'] []\n",
      "mi:  0.0348 pval:  7.033812140570838e-17 ['rain' 'sprinkler'] []\n",
      "mi:  0.0988 pval:  6.943933513919783e-45 ['sprinkler' 'cloudy'] []\n",
      "mi:  0.0348 pval:  7.033812140570838e-17 ['sprinkler' 'rain'] []\n",
      "mi:  0.1455 pval:  6.269252094322976e-64 ['cloudy' 'rain'] ['sprinkler']\n",
      "mi:  0.0643 pval:  1.173703964271977e-28 ['cloudy' 'sprinkler'] ['rain']\n",
      "mi:  0.1455 pval:  6.269252094322976e-64 ['rain' 'cloudy'] ['sprinkler']\n",
      "mi:  0.0003 pval:  0.706020072510996 ['rain' 'sprinkler'] ['cloudy']\n",
      "gottem:  sprinkler ['cloudy', 'sprinkler']\n",
      "final undirected:  {'cloudy': ['rain', 'sprinkler'], 'rain': ['cloudy'], 'sprinkler': ['cloudy']}\n",
      "final directed:  {'cloudy': ['rain', 'sprinkler'], 'rain': ['cloudy'], 'sprinkler': ['cloudy']}\n"
     ]
    },
    {
     "data": {
      "image/png": "[encoded data removed]",
      "text/plain": [
       "<Figure size 432x288 with 1 Axes>"
      ]
     },
     "metadata": {
      "needs_background": "light"
     },
     "output_type": "display_data"
    }
   ],
   "source": [
    "BN(pc_fresh(obs1.drop('wet', axis = 1), 1e-1)).show(node_size=500, node_color='gray')"
   ]
  },
  {
   "cell_type": "code",
   "execution_count": 17,
   "metadata": {},
   "outputs": [
    {
     "name": "stdout",
     "output_type": "stream",
     "text": [
      "initial graph:  {'rain': ['cloudy', 'sprinkler', 'wet'], 'cloudy': ['rain', 'sprinkler', 'wet'], 'sprinkler': ['rain', 'cloudy', 'wet'], 'wet': ['rain', 'cloudy', 'sprinkler']}\n",
      "mi:  0.0 pval:  5.64945144353613 ['rain' 'cloudy'] []\n",
      "gottem:  cloudy ['cloudy', 'sprinkler', 'wet']\n",
      "mi:  0.001 pval:  0.2128344892471829 ['rain' 'wet'] []\n",
      "gottem:  wet ['sprinkler', 'wet']\n",
      "mi:  0.0134 pval:  2.301400042484311e-07 ['cloudy' 'sprinkler'] []\n",
      "mi:  0.0021 pval:  0.05040132056241973 ['cloudy' 'wet'] []\n",
      "mi:  0.0319 pval:  1.3328442949069318e-15 ['sprinkler' 'rain'] []\n",
      "mi:  0.0134 pval:  2.301400042484311e-07 ['sprinkler' 'cloudy'] []\n",
      "mi:  0.0281 pval:  6.888298656128168e-14 ['sprinkler' 'wet'] []\n",
      "mi:  0.0021 pval:  0.05040132056241973 ['wet' 'cloudy'] []\n",
      "mi:  0.0281 pval:  6.888298656128168e-14 ['wet' 'sprinkler'] []\n",
      "mi:  0.0122 pval:  5.140344638860021e-06 ['cloudy' 'sprinkler'] ['wet']\n",
      "mi:  0.0008 pval:  0.4406439848783395 ['cloudy' 'wet'] ['sprinkler']\n",
      "gottem:  wet ['sprinkler', 'wet']\n",
      "mi:  0.0432 pval:  1.775133743547956e-19 ['sprinkler' 'rain'] ['cloudy']\n",
      "mi:  0.0312 pval:  2.8838183551079036e-14 ['sprinkler' 'rain'] ['wet']\n",
      "mi:  0.0246 pval:  1.9861400483000883e-11 ['sprinkler' 'cloudy'] ['rain']\n",
      "mi:  0.0122 pval:  5.140344638860569e-06 ['sprinkler' 'cloudy'] ['wet']\n",
      "mi:  0.0273 pval:  1.3969499695841537e-12 ['sprinkler' 'wet'] ['rain']\n",
      "mi:  0.0268 pval:  2.225500533364483e-12 ['sprinkler' 'wet'] ['cloudy']\n",
      "mi:  0.0411 pval:  5.577758506850097e-17 ['sprinkler' 'rain'] ['cloudy' 'wet']\n",
      "mi:  0.0221 pval:  5.351157949218822e-09 ['sprinkler' 'cloudy'] ['rain' 'wet']\n",
      "mi:  0.0248 pval:  4.214878075092313e-10 ['sprinkler' 'wet'] ['rain' 'cloudy']\n",
      "final undirected:  {'rain': ['sprinkler'], 'cloudy': ['sprinkler'], 'sprinkler': ['rain', 'cloudy', 'wet'], 'wet': ['sprinkler']}\n",
      "final directed:  {'rain': ['sprinkler'], 'cloudy': ['sprinkler'], 'sprinkler': ['cloudy'], 'wet': ['sprinkler']}\n"
     ]
    },
    {
     "data": {
      "image/png": "[encoded data removed]",
      "text/plain": [
       "<Figure size 432x288 with 1 Axes>"
      ]
     },
     "metadata": {
      "needs_background": "light"
     },
     "output_type": "display_data"
    }
   ],
   "source": [
    "obs2 = pd.read_csv(\"data/obs_v2.csv\")\n",
    "\n",
    "BN(pc_fresh(obs2, 1e-1)).show(node_size=500, node_color='gray')"
   ]
  },
  {
   "cell_type": "code",
   "execution_count": 18,
   "metadata": {},
   "outputs": [
    {
     "name": "stdout",
     "output_type": "stream",
     "text": [
      "initial graph:  {'B': ['A', 'T', 'C', 'S', 'R', 'W'], 'A': ['B', 'T', 'C', 'S', 'R', 'W'], 'T': ['B', 'A', 'C', 'S', 'R', 'W'], 'C': ['B', 'A', 'T', 'S', 'R', 'W'], 'S': ['B', 'A', 'T', 'C', 'R', 'W'], 'R': ['B', 'A', 'T', 'C', 'S', 'W'], 'W': ['B', 'A', 'T', 'C', 'S', 'R']}\n",
      "mi:  0.0254 pval:  1.0269694181757366e-12 ['B' 'A'] []\n",
      "mi:  0.0 pval:  7.025849822641294 ['B' 'T'] []\n",
      "gottem:  T ['A', 'T', 'C', 'S', 'R', 'W']\n",
      "mi:  0.0001 pval:  1.5629304436004443 ['B' 'S'] []\n",
      "gottem:  S ['A', 'C', 'S', 'R', 'W']\n",
      "mi:  0.0 pval:  7.514460918498283 ['B' 'W'] []\n",
      "gottem:  W ['A', 'C', 'R', 'W']\n",
      "mi:  0.0254 pval:  1.0269694181757366e-12 ['A' 'B'] []\n",
      "mi:  0.0 pval:  34.063164099650805 ['A' 'T'] []\n",
      "gottem:  T ['B', 'T', 'C', 'S', 'R', 'W']\n",
      "mi:  0.0058 pval:  0.0007198958676373381 ['A' 'S'] []\n",
      "mi:  0.0008 pval:  0.2672952669478602 ['A' 'R'] []\n",
      "gottem:  R ['B', 'C', 'S', 'R', 'W']\n",
      "mi:  0.0001 pval:  1.9627988686255595 ['T' 'C'] []\n",
      "gottem:  C ['C', 'S', 'R', 'W']\n",
      "mi:  0.1401 pval:  6.628320133901707e-63 ['T' 'R'] []\n",
      "mi:  0.0047 pval:  0.002259586394733091 ['T' 'W'] []\n",
      "mi:  0.0014 pval:  0.11972717309033222 ['C' 'B'] []\n",
      "gottem:  B ['B', 'A', 'S', 'R', 'W']\n",
      "mi:  0.0663 pval:  1.1668524636391852e-30 ['C' 'S'] []\n",
      "mi:  0.0239 pval:  4.724561734075715e-12 ['C' 'R'] []\n",
      "mi:  0.0222 pval:  2.6863726581558452e-11 ['C' 'W'] []\n",
      "mi:  0.0058 pval:  0.0007198958676373381 ['S' 'A'] []\n",
      "mi:  0.0001 pval:  1.7523877075849923 ['S' 'T'] []\n",
      "gottem:  T ['A', 'T', 'C', 'R', 'W']\n",
      "mi:  0.001 pval:  0.21836819045110065 ['S' 'R'] []\n",
      "gottem:  R ['A', 'C', 'R', 'W']\n",
      "mi:  0.0001 pval:  2.344498515039424 ['R' 'B'] []\n",
      "gottem:  B ['B', 'T', 'C', 'W']\n",
      "mi:  0.0239 pval:  4.724561734075715e-12 ['R' 'C'] []\n",
      "mi:  0.0383 pval:  2.1173532962230807e-18 ['R' 'W'] []\n",
      "mi:  0.0005 pval:  0.4799427579991482 ['W' 'A'] []\n",
      "gottem:  A ['A', 'T', 'C', 'S', 'R']\n",
      "mi:  0.0222 pval:  2.6863726581558452e-11 ['W' 'C'] []\n",
      "mi:  0.1168 pval:  9.534476597836816e-53 ['W' 'S'] []\n",
      "mi:  0.0383 pval:  2.1173532962230807e-18 ['W' 'R'] []\n",
      "mi:  0.0244 pval:  2.4807935288037566e-11 ['A' 'B'] ['C']\n",
      "mi:  0.0254 pval:  9.340368506184554e-12 ['A' 'B'] ['S']\n",
      "mi:  0.0201 pval:  1.8970675492279104e-09 ['A' 'C'] ['B']\n",
      "mi:  0.017 pval:  4.093035652864818e-08 ['A' 'C'] ['S']\n",
      "mi:  0.0058 pval:  0.0031241845102522874 ['A' 'S'] ['B']\n",
      "mi:  0.0017 pval:  0.1790300320387605 ['A' 'S'] ['C']\n",
      "gottem:  S ['B', 'C', 'S']\n",
      "mi:  0.1369 pval:  3.3516842528352964e-60 ['T' 'R'] ['W']\n",
      "mi:  0.0016 pval:  0.2101871733743584 ['T' 'W'] ['R']\n",
      "gottem:  W ['R', 'W']\n",
      "mi:  0.017 pval:  4.0930356528647454e-08 ['C' 'A'] ['S']\n",
      "mi:  0.023 pval:  1.0188954751651901e-10 ['C' 'A'] ['R']\n",
      "mi:  0.021 pval:  7.615804737745326e-10 ['C' 'A'] ['W']\n",
      "mi:  0.0622 pval:  9.819252069418775e-28 ['C' 'S'] ['A']\n",
      "mi:  0.0666 pval:  1.2367635551304343e-29 ['C' 'S'] ['R']\n",
      "mi:  0.0462 pval:  8.320019431259262e-21 ['C' 'S'] ['W']\n",
      "mi:  0.0258 pval:  5.946605393525304e-12 ['C' 'R'] ['A']\n",
      "mi:  0.0242 pval:  3.008799765882408e-11 ['C' 'R'] ['S']\n",
      "mi:  0.0146 pval:  4.407709960333035e-07 ['C' 'R'] ['W']\n",
      "mi:  0.0221 pval:  2.435788460696594e-10 ['C' 'W'] ['A']\n",
      "mi:  0.0022 pval:  0.11092135902661492 ['C' 'W'] ['S']\n",
      "gottem:  W ['A', 'S', 'R', 'W']\n",
      "mi:  0.0129 pval:  2.415445774736128e-06 ['C' 'W'] ['R']\n",
      "mi:  0.0462 pval:  8.32001943125861e-21 ['S' 'C'] ['W']\n",
      "mi:  0.0968 pval:  9.027652973673005e-43 ['S' 'W'] ['C']\n",
      "mi:  0.1614 pval:  8.43125977160315e-71 ['R' 'T'] ['C']\n",
      "mi:  0.1369 pval:  3.3516842528352964e-60 ['R' 'T'] ['W']\n",
      "mi:  0.0451 pval:  2.4828801936082355e-20 ['R' 'C'] ['T']\n",
      "mi:  0.0146 pval:  4.407709960333035e-07 ['R' 'C'] ['W']\n",
      "mi:  0.0351 pval:  5.59754011897887e-16 ['R' 'W'] ['T']\n",
      "mi:  0.029 pval:  2.499676899292857e-13 ['R' 'W'] ['C']\n",
      "mi:  0.1385 pval:  6.865285415532059e-61 ['W' 'S'] ['R']\n",
      "mi:  0.06 pval:  8.72942319975522e-27 ['W' 'R'] ['S']\n",
      "mi:  0.0199 pval:  4.42778414446778e-08 ['C' 'A'] ['S' 'R']\n",
      "mi:  0.0635 pval:  1.7123326318433643e-26 ['C' 'S'] ['A' 'R']\n",
      "mi:  0.0271 pval:  4.433587642284998e-11 ['C' 'R'] ['A' 'S']\n",
      "mi:  0.1561 pval:  2.576505382692212e-66 ['R' 'T'] ['C' 'W']\n",
      "mi:  0.0338 pval:  7.329899488032759e-14 ['R' 'C'] ['T' 'W']\n",
      "mi:  0.0237 pval:  1.161924490552293e-09 ['R' 'W'] ['T' 'C']\n",
      "final undirected:  {'B': ['A'], 'A': ['B', 'C'], 'T': ['R'], 'C': ['A', 'S', 'R'], 'S': ['C', 'W'], 'R': ['T', 'C', 'W'], 'W': ['S', 'R']}\n",
      "final directed:  {'B': ['A'], 'A': ['B', 'C'], 'T': ['R'], 'C': ['A', 'S', 'R'], 'S': ['C', 'W'], 'R': ['T'], 'W': ['S', 'R']}\n"
     ]
    },
    {
     "data": {
      "image/png": "[encoded data removed]",
      "text/plain": [
       "<Figure size 432x288 with 1 Axes>"
      ]
     },
     "metadata": {
      "needs_background": "light"
     },
     "output_type": "display_data"
    }
   ],
   "source": [
    "obs3 = pd.read_csv(\"data/obs_v3.csv\")\n",
    "\n",
    "BN(pc_fresh(obs3, 0.05)).show(node_size=500, node_color='gray')"
   ]
  },
  {
   "cell_type": "markdown",
   "metadata": {},
   "source": [
    "## Scratch"
   ]
  },
  {
   "cell_type": "code",
   "execution_count": 19,
   "metadata": {},
   "outputs": [
    {
     "data": {
      "text/plain": [
       "0.019210104042050195"
      ]
     },
     "execution_count": 19,
     "metadata": {},
     "output_type": "execute_result"
    },
    {
     "data": {
      "text/plain": [
       "5.84545098042687e-10"
      ]
     },
     "execution_count": 19,
     "metadata": {},
     "output_type": "execute_result"
    },
    {
     "data": {
      "text/plain": [
       "(0.019210104042050195, 5.84545098042687e-10)"
      ]
     },
     "execution_count": 19,
     "metadata": {},
     "output_type": "execute_result"
    }
   ],
   "source": [
    "testdata = obs1[['cloudy','wet']].values.astype(int)\n",
    "\n",
    "eps = 1e-10\n",
    "bins = [2,2]\n",
    "hist, edges = np.histogramdd(testdata, bins=bins)\n",
    "\n",
    "Pxyzz = hist / testdata.shape[0] #P(X,Y,Z)\n",
    "Pzz = np.sum(Pxyzz, axis = (0,1)) # P(Z)\n",
    "Pxzz = np.sum(Pxyzz, axis = 1) # P(X,Z)\n",
    "Pyzz = np.sum(Pxyzz, axis = 0) # P(Y,Z)    \n",
    "\n",
    "lognum = np.empty((Pxyzz.shape)) # P(Z)P(X,Y,Z)\n",
    "logden = np.empty((Pxyzz.shape)) # P(X,Z)P(Y,Z)\n",
    "for i in range(bins[0]):\n",
    "    for j in range(bins[1]):\n",
    "            lognum[i][j] = Pzz*Pxyzz[i][j]\n",
    "            logden[i][j] = Pxzz[i]*Pyzz[j]\n",
    "\n",
    "cmi = np.sum(Pxyzz * np.log((lognum + eps) / (logden + eps) ) )\n",
    "\n",
    "chi2 = 2*len(testdata)*cmi\n",
    "df = (2 - 1) * (2 - 1)\n",
    "\n",
    "cmi\n",
    "2*stats.chi2.pdf(chi2, df)\n",
    "\n",
    "mutual_info(testdata, [2,2])"
   ]
  },
  {
   "cell_type": "code",
   "execution_count": 20,
   "metadata": {},
   "outputs": [
    {
     "data": {
      "text/plain": [
       "0.024359918668268983"
      ]
     },
     "execution_count": 20,
     "metadata": {},
     "output_type": "execute_result"
    },
    {
     "data": {
      "text/plain": [
       "2.6340362212902817e-11"
      ]
     },
     "execution_count": 20,
     "metadata": {},
     "output_type": "execute_result"
    },
    {
     "data": {
      "text/plain": [
       "(0.024359918668268983, 2.6340362212902817e-11)"
      ]
     },
     "execution_count": 20,
     "metadata": {},
     "output_type": "execute_result"
    }
   ],
   "source": [
    "testdata = np.concatenate((obs1[['cloudy','wet']],obs1[['rain']]),axis=1).astype(int)\n",
    "\n",
    "eps = 1e-10\n",
    "bins = [2,2,2]\n",
    "hist, edges = np.histogramdd(testdata, bins=bins)\n",
    "\n",
    "Pxyzz = hist / testdata.shape[0] #P(X,Y,Z)\n",
    "Pzz = np.sum(Pxyzz, axis = (0,1)) # P(Z)\n",
    "Pxzz = np.sum(Pxyzz, axis = 1) # P(X,Z)\n",
    "Pyzz = np.sum(Pxyzz, axis = 0) # P(Y,Z)    \n",
    "\n",
    "lognum = np.empty((Pxyzz.shape)) # P(Z)P(X,Y,Z)\n",
    "logden = np.empty((Pxyzz.shape)) # P(X,Z)P(Y,Z)\n",
    "for i in range(bins[0]):\n",
    "    for j in range(bins[1]):\n",
    "        for k in range(bins[2]):\n",
    "            lognum[i][j][k] = Pzz[k]*Pxyzz[i][j][k]\n",
    "            logden[i][j][k] = Pxzz[i][k]*Pyzz[j][k]\n",
    "\n",
    "cmi = np.sum(Pxyzz * np.log((lognum + eps) / (logden + eps) ) )\n",
    "\n",
    "chi2 = 2*len(testdata)*cmi\n",
    "df = (2 - 1) * (2 - 1) * 2\n",
    "\n",
    "cmi\n",
    "2*stats.chi2.pdf(chi2, df)\n",
    "\n",
    "mutual_info(testdata, [2,2,2])"
   ]
  },
  {
   "cell_type": "code",
   "execution_count": 21,
   "metadata": {},
   "outputs": [
    {
     "data": {
      "text/plain": [
       "0.0015016159566173725"
      ]
     },
     "execution_count": 21,
     "metadata": {},
     "output_type": "execute_result"
    },
    {
     "data": {
      "text/plain": [
       "0.3345148104626348"
      ]
     },
     "execution_count": 21,
     "metadata": {},
     "output_type": "execute_result"
    },
    {
     "data": {
      "text/plain": [
       "(0.0015016159566173725, 0.3345148104626348)"
      ]
     },
     "execution_count": 21,
     "metadata": {},
     "output_type": "execute_result"
    }
   ],
   "source": [
    "testdata = np.concatenate((obs1[['cloudy','wet']],obs1[['rain','sprinkler']]),axis=1).astype(int)\n",
    "\n",
    "eps = 1e-10\n",
    "bins = [2,2,2,2]\n",
    "hist, edges = np.histogramdd(testdata, bins=bins)\n",
    "\n",
    "Pxyzz = hist / testdata.shape[0] #P(X,Y,ZZ)\n",
    "Pzz = np.sum(Pxyzz, axis = (0,1)) # P(Z)\n",
    "Pxzz = np.sum(Pxyzz, axis = 1) # P(X,Z)\n",
    "Pyzz = np.sum(Pxyzz, axis = 0) # P(Y,Z)    \n",
    "\n",
    "lognum = np.empty((Pxyzz.shape)) # P(Z)P(X,Y,Z)\n",
    "logden = np.empty((Pxyzz.shape)) # P(X,Z)P(Y,Z)\n",
    "for i in range(bins[0]):\n",
    "    for j in range(bins[1]):\n",
    "        for k in range(bins[2]):\n",
    "            for l in range(bins[3]):\n",
    "                lognum[i][j][k][l] = Pxyzz[i][j][k][l]*Pzz[k][l]\n",
    "                logden[i][j][k][l] = Pxzz[i][k][l]*Pyzz[j][k][l]\n",
    "                \n",
    "#                 lognum[i][j][:] = Pxyzz[i][j][k][l]*Pzz[:]\n",
    "#                 logden[i][j][:] = Pxzz[i][k][l]*Pyzz[j][:]\n",
    "\n",
    "cmi = np.sum(Pxyzz * np.log((lognum + eps) / (logden + eps) ) )\n",
    "\n",
    "chi2 = 2*len(testdata)*cmi\n",
    "df = (2 - 1) * (2 - 1) * 2*2\n",
    "\n",
    "cmi\n",
    "2*stats.chi2.pdf(chi2, df)\n",
    "\n",
    "mutual_info(testdata, [2,2,2,2])"
   ]
  },
  {
   "cell_type": "code",
   "execution_count": null,
   "metadata": {},
   "outputs": [],
   "source": []
  }
 ],
 "metadata": {
  "kernelspec": {
   "display_name": "Python 3",
   "language": "python",
   "name": "python3"
  },
  "language_info": {
   "codemirror_mode": {
    "name": "ipython",
    "version": 3
   },
   "file_extension": ".py",
   "mimetype": "text/x-python",
   "name": "python",
   "nbconvert_exporter": "python",
   "pygments_lexer": "ipython3",
   "version": "3.6.7"
  }
 },
 "nbformat": 4,
 "nbformat_minor": 2
}
